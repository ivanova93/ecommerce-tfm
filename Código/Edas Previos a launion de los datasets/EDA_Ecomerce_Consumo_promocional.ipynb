{
  "cells": [
    {
      "cell_type": "markdown",
      "metadata": {
        "id": "qDo09YyVelmY"
      },
      "source": [
        "# EDA Ecomerce Consumo promocional"
      ]
    },
    {
      "cell_type": "code",
      "execution_count": 1,
      "metadata": {
        "id": "BFBtJsNjT69n"
      },
      "outputs": [],
      "source": [
        "# Importar pandas\n",
        "import pandas as pd"
      ]
    },
    {
      "cell_type": "code",
      "execution_count": 2,
      "metadata": {
        "id": "PidpR1HrUGyx"
      },
      "outputs": [],
      "source": [
        "# Cargar archivo de Linea1-Consumos Promocionales\n",
        "df = pd.read_csv('Linea1-Consumos Promocionales.txt', sep=\";\", encoding='latin-1')"
      ]
    },
    {
      "cell_type": "code",
      "execution_count": 3,
      "metadata": {
        "colab": {
          "base_uri": "https://localhost:8080/",
          "height": 357
        },
        "id": "yhseiKQeUJbl",
        "outputId": "2a8d7df0-f841-4859-c278-bf553ed5da8e"
      },
      "outputs": [
        {
          "data": {
            "text/html": [
              "<div>\n",
              "<style scoped>\n",
              "    .dataframe tbody tr th:only-of-type {\n",
              "        vertical-align: middle;\n",
              "    }\n",
              "\n",
              "    .dataframe tbody tr th {\n",
              "        vertical-align: top;\n",
              "    }\n",
              "\n",
              "    .dataframe thead th {\n",
              "        text-align: right;\n",
              "    }\n",
              "</style>\n",
              "<table border=\"1\" class=\"dataframe\">\n",
              "  <thead>\n",
              "    <tr style=\"text-align: right;\">\n",
              "      <th></th>\n",
              "      <th>IDCONSUMO</th>\n",
              "      <th>IDUSUARIO</th>\n",
              "      <th>IDPRODUCTO</th>\n",
              "      <th>DESCPRODUCTO</th>\n",
              "      <th>IDGRUPOPROD</th>\n",
              "      <th>DESCGRUPOPROD</th>\n",
              "      <th>FECHACONSUMO</th>\n",
              "      <th>EMPCONSUL_ID</th>\n",
              "      <th>EMPCONSUL_CIIU</th>\n",
              "      <th>EMPCONSUL_PROV</th>\n",
              "      <th>EMPCONSUL_EST</th>\n",
              "    </tr>\n",
              "  </thead>\n",
              "  <tbody>\n",
              "    <tr>\n",
              "      <th>0</th>\n",
              "      <td>40057306,00</td>\n",
              "      <td>6868835,00</td>\n",
              "      <td>144920,00</td>\n",
              "      <td>Perfil Promocional</td>\n",
              "      <td>144920</td>\n",
              "      <td>Perfil Promocional</td>\n",
              "      <td>1/1/2018 0:00:00</td>\n",
              "      <td>986515</td>\n",
              "      <td>H4921</td>\n",
              "      <td>ATLANTICO</td>\n",
              "      <td>ACTIVA</td>\n",
              "    </tr>\n",
              "    <tr>\n",
              "      <th>1</th>\n",
              "      <td>40057715,00</td>\n",
              "      <td>6868838,00</td>\n",
              "      <td>144920,00</td>\n",
              "      <td>Perfil Promocional</td>\n",
              "      <td>144920</td>\n",
              "      <td>Perfil Promocional</td>\n",
              "      <td>1/1/2018 0:00:00</td>\n",
              "      <td>102614</td>\n",
              "      <td>N8121</td>\n",
              "      <td>BOGOTA</td>\n",
              "      <td>ACTIVA</td>\n",
              "    </tr>\n",
              "    <tr>\n",
              "      <th>2</th>\n",
              "      <td>40057758,00</td>\n",
              "      <td>6868841,00</td>\n",
              "      <td>144920,00</td>\n",
              "      <td>Perfil Promocional</td>\n",
              "      <td>144920</td>\n",
              "      <td>Perfil Promocional</td>\n",
              "      <td>1/1/2018 0:00:00</td>\n",
              "      <td>915924</td>\n",
              "      <td>S9609</td>\n",
              "      <td>BOGOTA</td>\n",
              "      <td>ACTIVA</td>\n",
              "    </tr>\n",
              "    <tr>\n",
              "      <th>3</th>\n",
              "      <td>40057765,00</td>\n",
              "      <td>6868844,00</td>\n",
              "      <td>144920,00</td>\n",
              "      <td>Perfil Promocional</td>\n",
              "      <td>144920</td>\n",
              "      <td>Perfil Promocional</td>\n",
              "      <td>1/1/2018 0:00:00</td>\n",
              "      <td>3830723</td>\n",
              "      <td>G4642</td>\n",
              "      <td>BOGOTA</td>\n",
              "      <td>ACTIVA</td>\n",
              "    </tr>\n",
              "    <tr>\n",
              "      <th>4</th>\n",
              "      <td>40057767,00</td>\n",
              "      <td>6868841,00</td>\n",
              "      <td>144917,00</td>\n",
              "      <td>Ficha Básica</td>\n",
              "      <td>144917</td>\n",
              "      <td>Ficha Básica Promocional</td>\n",
              "      <td>1/1/2018 0:00:00</td>\n",
              "      <td>2971771</td>\n",
              "      <td>P8544</td>\n",
              "      <td>BOGOTA</td>\n",
              "      <td>ACTIVA</td>\n",
              "    </tr>\n",
              "  </tbody>\n",
              "</table>\n",
              "</div>"
            ],
            "text/plain": [
              "     IDCONSUMO   IDUSUARIO IDPRODUCTO        DESCPRODUCTO  IDGRUPOPROD  \\\n",
              "0  40057306,00  6868835,00  144920,00  Perfil Promocional       144920   \n",
              "1  40057715,00  6868838,00  144920,00  Perfil Promocional       144920   \n",
              "2  40057758,00  6868841,00  144920,00  Perfil Promocional       144920   \n",
              "3  40057765,00  6868844,00  144920,00  Perfil Promocional       144920   \n",
              "4  40057767,00  6868841,00  144917,00        Ficha Básica       144917   \n",
              "\n",
              "              DESCGRUPOPROD      FECHACONSUMO  EMPCONSUL_ID EMPCONSUL_CIIU  \\\n",
              "0        Perfil Promocional  1/1/2018 0:00:00        986515          H4921   \n",
              "1        Perfil Promocional  1/1/2018 0:00:00        102614          N8121   \n",
              "2        Perfil Promocional  1/1/2018 0:00:00        915924          S9609   \n",
              "3        Perfil Promocional  1/1/2018 0:00:00       3830723          G4642   \n",
              "4  Ficha Básica Promocional  1/1/2018 0:00:00       2971771          P8544   \n",
              "\n",
              "  EMPCONSUL_PROV EMPCONSUL_EST  \n",
              "0      ATLANTICO        ACTIVA  \n",
              "1         BOGOTA        ACTIVA  \n",
              "2         BOGOTA        ACTIVA  \n",
              "3         BOGOTA        ACTIVA  \n",
              "4         BOGOTA        ACTIVA  "
            ]
          },
          "execution_count": 3,
          "metadata": {},
          "output_type": "execute_result"
        }
      ],
      "source": [
        "# Mostrar primeros 5 registros\n",
        "df.head()"
      ]
    },
    {
      "cell_type": "code",
      "execution_count": 4,
      "metadata": {
        "id": "WRtv0djjUcna"
      },
      "outputs": [],
      "source": [
        "# Reemplazar nombres de las columnas\n",
        "df.columns = ['id_consumo', 'id_usuario', 'id_producto', 'desc_producto', 'id_grupo_prod',\n",
        "       'desc_grupo_prod', 'fecha_consumo', 'empconsul_id', 'empconsul_ciiu',\n",
        "       'empconsul_prov', 'empconsul_est']"
      ]
    },
    {
      "cell_type": "code",
      "execution_count": 5,
      "metadata": {
        "colab": {
          "base_uri": "https://localhost:8080/",
          "height": 357
        },
        "id": "lNh2OrdFU4vs",
        "outputId": "8c1b8df0-6c4e-4f44-950b-94c6b63a6620"
      },
      "outputs": [
        {
          "data": {
            "text/html": [
              "<div>\n",
              "<style scoped>\n",
              "    .dataframe tbody tr th:only-of-type {\n",
              "        vertical-align: middle;\n",
              "    }\n",
              "\n",
              "    .dataframe tbody tr th {\n",
              "        vertical-align: top;\n",
              "    }\n",
              "\n",
              "    .dataframe thead th {\n",
              "        text-align: right;\n",
              "    }\n",
              "</style>\n",
              "<table border=\"1\" class=\"dataframe\">\n",
              "  <thead>\n",
              "    <tr style=\"text-align: right;\">\n",
              "      <th></th>\n",
              "      <th>id_consumo</th>\n",
              "      <th>id_usuario</th>\n",
              "      <th>id_producto</th>\n",
              "      <th>desc_producto</th>\n",
              "      <th>id_grupo_prod</th>\n",
              "      <th>desc_grupo_prod</th>\n",
              "      <th>fecha_consumo</th>\n",
              "      <th>empconsul_id</th>\n",
              "      <th>empconsul_ciiu</th>\n",
              "      <th>empconsul_prov</th>\n",
              "      <th>empconsul_est</th>\n",
              "    </tr>\n",
              "  </thead>\n",
              "  <tbody>\n",
              "    <tr>\n",
              "      <th>0</th>\n",
              "      <td>40057306,00</td>\n",
              "      <td>6868835,00</td>\n",
              "      <td>144920,00</td>\n",
              "      <td>Perfil Promocional</td>\n",
              "      <td>144920</td>\n",
              "      <td>Perfil Promocional</td>\n",
              "      <td>1/1/2018 0:00:00</td>\n",
              "      <td>986515</td>\n",
              "      <td>H4921</td>\n",
              "      <td>ATLANTICO</td>\n",
              "      <td>ACTIVA</td>\n",
              "    </tr>\n",
              "    <tr>\n",
              "      <th>1</th>\n",
              "      <td>40057715,00</td>\n",
              "      <td>6868838,00</td>\n",
              "      <td>144920,00</td>\n",
              "      <td>Perfil Promocional</td>\n",
              "      <td>144920</td>\n",
              "      <td>Perfil Promocional</td>\n",
              "      <td>1/1/2018 0:00:00</td>\n",
              "      <td>102614</td>\n",
              "      <td>N8121</td>\n",
              "      <td>BOGOTA</td>\n",
              "      <td>ACTIVA</td>\n",
              "    </tr>\n",
              "    <tr>\n",
              "      <th>2</th>\n",
              "      <td>40057758,00</td>\n",
              "      <td>6868841,00</td>\n",
              "      <td>144920,00</td>\n",
              "      <td>Perfil Promocional</td>\n",
              "      <td>144920</td>\n",
              "      <td>Perfil Promocional</td>\n",
              "      <td>1/1/2018 0:00:00</td>\n",
              "      <td>915924</td>\n",
              "      <td>S9609</td>\n",
              "      <td>BOGOTA</td>\n",
              "      <td>ACTIVA</td>\n",
              "    </tr>\n",
              "    <tr>\n",
              "      <th>3</th>\n",
              "      <td>40057765,00</td>\n",
              "      <td>6868844,00</td>\n",
              "      <td>144920,00</td>\n",
              "      <td>Perfil Promocional</td>\n",
              "      <td>144920</td>\n",
              "      <td>Perfil Promocional</td>\n",
              "      <td>1/1/2018 0:00:00</td>\n",
              "      <td>3830723</td>\n",
              "      <td>G4642</td>\n",
              "      <td>BOGOTA</td>\n",
              "      <td>ACTIVA</td>\n",
              "    </tr>\n",
              "    <tr>\n",
              "      <th>4</th>\n",
              "      <td>40057767,00</td>\n",
              "      <td>6868841,00</td>\n",
              "      <td>144917,00</td>\n",
              "      <td>Ficha Básica</td>\n",
              "      <td>144917</td>\n",
              "      <td>Ficha Básica Promocional</td>\n",
              "      <td>1/1/2018 0:00:00</td>\n",
              "      <td>2971771</td>\n",
              "      <td>P8544</td>\n",
              "      <td>BOGOTA</td>\n",
              "      <td>ACTIVA</td>\n",
              "    </tr>\n",
              "  </tbody>\n",
              "</table>\n",
              "</div>"
            ],
            "text/plain": [
              "    id_consumo  id_usuario id_producto       desc_producto  id_grupo_prod  \\\n",
              "0  40057306,00  6868835,00   144920,00  Perfil Promocional         144920   \n",
              "1  40057715,00  6868838,00   144920,00  Perfil Promocional         144920   \n",
              "2  40057758,00  6868841,00   144920,00  Perfil Promocional         144920   \n",
              "3  40057765,00  6868844,00   144920,00  Perfil Promocional         144920   \n",
              "4  40057767,00  6868841,00   144917,00        Ficha Básica         144917   \n",
              "\n",
              "            desc_grupo_prod     fecha_consumo  empconsul_id empconsul_ciiu  \\\n",
              "0        Perfil Promocional  1/1/2018 0:00:00        986515          H4921   \n",
              "1        Perfil Promocional  1/1/2018 0:00:00        102614          N8121   \n",
              "2        Perfil Promocional  1/1/2018 0:00:00        915924          S9609   \n",
              "3        Perfil Promocional  1/1/2018 0:00:00       3830723          G4642   \n",
              "4  Ficha Básica Promocional  1/1/2018 0:00:00       2971771          P8544   \n",
              "\n",
              "  empconsul_prov empconsul_est  \n",
              "0      ATLANTICO        ACTIVA  \n",
              "1         BOGOTA        ACTIVA  \n",
              "2         BOGOTA        ACTIVA  \n",
              "3         BOGOTA        ACTIVA  \n",
              "4         BOGOTA        ACTIVA  "
            ]
          },
          "execution_count": 5,
          "metadata": {},
          "output_type": "execute_result"
        }
      ],
      "source": [
        "# Mostrar primeros 5 registros\n",
        "df.head()\n"
      ]
    },
    {
      "cell_type": "code",
      "execution_count": 6,
      "metadata": {
        "id": "I1tZ3DXVU7Q0"
      },
      "outputs": [],
      "source": [
        "# Convirtiendo valores de fecha_consumo a datetime[64]\n",
        "df['fecha_consumo'] = df['fecha_consumo'].astype('datetime64')"
      ]
    },
    {
      "cell_type": "code",
      "execution_count": 7,
      "metadata": {
        "colab": {
          "base_uri": "https://localhost:8080/",
          "height": 357
        },
        "id": "VT6o0mSeVlnt",
        "outputId": "da321704-5564-4177-fc9e-9fbe1baf5d2f"
      },
      "outputs": [
        {
          "data": {
            "text/html": [
              "<div>\n",
              "<style scoped>\n",
              "    .dataframe tbody tr th:only-of-type {\n",
              "        vertical-align: middle;\n",
              "    }\n",
              "\n",
              "    .dataframe tbody tr th {\n",
              "        vertical-align: top;\n",
              "    }\n",
              "\n",
              "    .dataframe thead th {\n",
              "        text-align: right;\n",
              "    }\n",
              "</style>\n",
              "<table border=\"1\" class=\"dataframe\">\n",
              "  <thead>\n",
              "    <tr style=\"text-align: right;\">\n",
              "      <th></th>\n",
              "      <th>id_consumo</th>\n",
              "      <th>id_usuario</th>\n",
              "      <th>id_producto</th>\n",
              "      <th>desc_producto</th>\n",
              "      <th>id_grupo_prod</th>\n",
              "      <th>desc_grupo_prod</th>\n",
              "      <th>fecha_consumo</th>\n",
              "      <th>empconsul_id</th>\n",
              "      <th>empconsul_ciiu</th>\n",
              "      <th>empconsul_prov</th>\n",
              "      <th>empconsul_est</th>\n",
              "    </tr>\n",
              "  </thead>\n",
              "  <tbody>\n",
              "    <tr>\n",
              "      <th>0</th>\n",
              "      <td>40057306,00</td>\n",
              "      <td>6868835,00</td>\n",
              "      <td>144920,00</td>\n",
              "      <td>Perfil Promocional</td>\n",
              "      <td>144920</td>\n",
              "      <td>Perfil Promocional</td>\n",
              "      <td>2018-01-01</td>\n",
              "      <td>986515</td>\n",
              "      <td>H4921</td>\n",
              "      <td>ATLANTICO</td>\n",
              "      <td>ACTIVA</td>\n",
              "    </tr>\n",
              "    <tr>\n",
              "      <th>1</th>\n",
              "      <td>40057715,00</td>\n",
              "      <td>6868838,00</td>\n",
              "      <td>144920,00</td>\n",
              "      <td>Perfil Promocional</td>\n",
              "      <td>144920</td>\n",
              "      <td>Perfil Promocional</td>\n",
              "      <td>2018-01-01</td>\n",
              "      <td>102614</td>\n",
              "      <td>N8121</td>\n",
              "      <td>BOGOTA</td>\n",
              "      <td>ACTIVA</td>\n",
              "    </tr>\n",
              "    <tr>\n",
              "      <th>2</th>\n",
              "      <td>40057758,00</td>\n",
              "      <td>6868841,00</td>\n",
              "      <td>144920,00</td>\n",
              "      <td>Perfil Promocional</td>\n",
              "      <td>144920</td>\n",
              "      <td>Perfil Promocional</td>\n",
              "      <td>2018-01-01</td>\n",
              "      <td>915924</td>\n",
              "      <td>S9609</td>\n",
              "      <td>BOGOTA</td>\n",
              "      <td>ACTIVA</td>\n",
              "    </tr>\n",
              "    <tr>\n",
              "      <th>3</th>\n",
              "      <td>40057765,00</td>\n",
              "      <td>6868844,00</td>\n",
              "      <td>144920,00</td>\n",
              "      <td>Perfil Promocional</td>\n",
              "      <td>144920</td>\n",
              "      <td>Perfil Promocional</td>\n",
              "      <td>2018-01-01</td>\n",
              "      <td>3830723</td>\n",
              "      <td>G4642</td>\n",
              "      <td>BOGOTA</td>\n",
              "      <td>ACTIVA</td>\n",
              "    </tr>\n",
              "    <tr>\n",
              "      <th>4</th>\n",
              "      <td>40057767,00</td>\n",
              "      <td>6868841,00</td>\n",
              "      <td>144917,00</td>\n",
              "      <td>Ficha Básica</td>\n",
              "      <td>144917</td>\n",
              "      <td>Ficha Básica Promocional</td>\n",
              "      <td>2018-01-01</td>\n",
              "      <td>2971771</td>\n",
              "      <td>P8544</td>\n",
              "      <td>BOGOTA</td>\n",
              "      <td>ACTIVA</td>\n",
              "    </tr>\n",
              "  </tbody>\n",
              "</table>\n",
              "</div>"
            ],
            "text/plain": [
              "    id_consumo  id_usuario id_producto       desc_producto  id_grupo_prod  \\\n",
              "0  40057306,00  6868835,00   144920,00  Perfil Promocional         144920   \n",
              "1  40057715,00  6868838,00   144920,00  Perfil Promocional         144920   \n",
              "2  40057758,00  6868841,00   144920,00  Perfil Promocional         144920   \n",
              "3  40057765,00  6868844,00   144920,00  Perfil Promocional         144920   \n",
              "4  40057767,00  6868841,00   144917,00        Ficha Básica         144917   \n",
              "\n",
              "            desc_grupo_prod fecha_consumo  empconsul_id empconsul_ciiu  \\\n",
              "0        Perfil Promocional    2018-01-01        986515          H4921   \n",
              "1        Perfil Promocional    2018-01-01        102614          N8121   \n",
              "2        Perfil Promocional    2018-01-01        915924          S9609   \n",
              "3        Perfil Promocional    2018-01-01       3830723          G4642   \n",
              "4  Ficha Básica Promocional    2018-01-01       2971771          P8544   \n",
              "\n",
              "  empconsul_prov empconsul_est  \n",
              "0      ATLANTICO        ACTIVA  \n",
              "1         BOGOTA        ACTIVA  \n",
              "2         BOGOTA        ACTIVA  \n",
              "3         BOGOTA        ACTIVA  \n",
              "4         BOGOTA        ACTIVA  "
            ]
          },
          "execution_count": 7,
          "metadata": {},
          "output_type": "execute_result"
        }
      ],
      "source": [
        "# Mostrar primeros 5 registros\n",
        "df.head()"
      ]
    },
    {
      "cell_type": "code",
      "execution_count": 8,
      "metadata": {
        "colab": {
          "base_uri": "https://localhost:8080/"
        },
        "id": "HKLxWQZBVyd2",
        "outputId": "7d35edf0-eb69-43c9-ea99-0660d81e34fe"
      },
      "outputs": [
        {
          "name": "stdout",
          "output_type": "stream",
          "text": [
            "(796737, 11)\n"
          ]
        },
        {
          "data": {
            "text/plain": [
              "id_consumo         796737\n",
              "id_usuario         367674\n",
              "id_producto             2\n",
              "desc_producto           2\n",
              "id_grupo_prod           2\n",
              "desc_grupo_prod         2\n",
              "fecha_consumo        1115\n",
              "empconsul_id       266853\n",
              "empconsul_ciiu        760\n",
              "empconsul_prov         33\n",
              "empconsul_est          13\n",
              "dtype: int64"
            ]
          },
          "execution_count": 8,
          "metadata": {},
          "output_type": "execute_result"
        }
      ],
      "source": [
        "# Mostrar numero de filas y columnas del dataframe\n",
        "print(df.shape)\n",
        "# Mostrar valores unicos por columna\n",
        "df.nunique()"
      ]
    },
    {
      "cell_type": "code",
      "execution_count": 9,
      "metadata": {
        "colab": {
          "base_uri": "https://localhost:8080/",
          "height": 363
        },
        "id": "LwTZAtoiVo9l",
        "outputId": "51b8c33a-1ee3-4a4e-cce8-08b07540d519"
      },
      "outputs": [
        {
          "data": {
            "text/plain": [
              "<AxesSubplot:>"
            ]
          },
          "execution_count": 9,
          "metadata": {},
          "output_type": "execute_result"
        },
        {
          "data": {
            "image/png": "[encoded data removed]",
            "text/plain": [
              "<Figure size 432x288 with 1 Axes>"
            ]
          },
          "metadata": {
            "needs_background": "light"
          },
          "output_type": "display_data"
        }
      ],
      "source": [
        "# Valores por cada categoria de descripcion de producto\n",
        "df.desc_producto.value_counts().plot(kind='bar')"
      ]
    },
    {
      "cell_type": "code",
      "execution_count": 10,
      "metadata": {
        "colab": {
          "base_uri": "https://localhost:8080/",
          "height": 299
        },
        "id": "YFM9LkA9Wu-L",
        "outputId": "61fd1792-7643-42e5-ed44-51ee49bbd0ac"
      },
      "outputs": [
        {
          "data": {
            "text/plain": [
              "<AxesSubplot:>"
            ]
          },
          "execution_count": 10,
          "metadata": {},
          "output_type": "execute_result"
        },
        {
          "data": {
            "image/png": "[encoded data removed]",
            "text/plain": [
              "<Figure size 432x288 with 1 Axes>"
            ]
          },
          "metadata": {
            "needs_background": "light"
          },
          "output_type": "display_data"
        }
      ],
      "source": [
        "# Valores por cada año en las fechas de consumo\n",
        "df.fecha_consumo.dt.year.value_counts().plot(kind='bar')"
      ]
    },
    {
      "cell_type": "code",
      "execution_count": 18,
      "metadata": {},
      "outputs": [
        {
          "data": {
            "text/plain": [
              "<AxesSubplot:>"
            ]
          },
          "execution_count": 18,
          "metadata": {},
          "output_type": "execute_result"
        },
        {
          "data": {
            "image/png": "[encoded data removed]",
            "text/plain": [
              "<Figure size 432x288 with 1 Axes>"
            ]
          },
          "metadata": {
            "needs_background": "light"
          },
          "output_type": "display_data"
        }
      ],
      "source": [
        "# Valores por cada categoria de codigo CIUU\n",
        "df.empconsul_ciiu.value_counts().head().plot(kind='bar')"
      ]
    },
    {
      "cell_type": "code",
      "execution_count": 12,
      "metadata": {
        "colab": {
          "base_uri": "https://localhost:8080/"
        },
        "id": "yWFb9xc-XUWk",
        "outputId": "ad535bb0-2a7f-4d78-c8cb-50ad57163159"
      },
      "outputs": [
        {
          "data": {
            "text/plain": [
              "BOGOTA             317127\n",
              "ANTIOQUIA          129797\n",
              "VALLE               70135\n",
              "CUNDINAMARCA        45310\n",
              "ATLANTICO           40752\n",
              "SANTANDER           27241\n",
              "BOLIVAR             18386\n",
              "RISARALDA           13967\n",
              "META                11839\n",
              "NORTE SANTANDER     11671\n",
              "TOLIMA              11059\n",
              "BOYACA              10780\n",
              "HUILA               10626\n",
              "CALDAS               9788\n",
              "CORDOBA              8660\n",
              "NARINO               8533\n",
              "MAGDALENA            8107\n",
              "CESAR                7255\n",
              "CAUCA                6730\n",
              "QUINDIO              5743\n",
              "CASANARE             5591\n",
              "SUCRE                4171\n",
              "LA GUAJIRA           2718\n",
              "CAQUETA              1854\n",
              "ARAUCA               1671\n",
              "PUTUMAYO             1536\n",
              "CHOCO                1526\n",
              "AMAZONAS              503\n",
              "GUAVIARE              245\n",
              "VICHADA               204\n",
              "VAUPES                 54\n",
              "SAN ANDRES             24\n",
              "GUAINIA                16\n",
              "Name: empconsul_prov, dtype: int64"
            ]
          },
          "execution_count": 12,
          "metadata": {},
          "output_type": "execute_result"
        }
      ],
      "source": [
        "# Valores por cada departamento\n",
        "df.empconsul_prov.value_counts()"
      ]
    },
    {
      "cell_type": "code",
      "execution_count": 13,
      "metadata": {
        "colab": {
          "base_uri": "https://localhost:8080/",
          "height": 371
        },
        "id": "9dT0ER2tXYNS",
        "outputId": "1df0ea32-b510-4d3d-ba4c-e422c3f7c116"
      },
      "outputs": [
        {
          "data": {
            "text/plain": [
              "<AxesSubplot:>"
            ]
          },
          "execution_count": 13,
          "metadata": {},
          "output_type": "execute_result"
        },
        {
          "data": {
            "image/png": "[encoded data removed]",
            "text/plain": [
              "<Figure size 432x288 with 1 Axes>"
            ]
          },
          "metadata": {
            "needs_background": "light"
          },
          "output_type": "display_data"
        }
      ],
      "source": [
        "# Grafica de valores por cada departamento\n",
        "df.empconsul_prov.value_counts().plot(kind='bar')"
      ]
    },
    {
      "cell_type": "code",
      "execution_count": 14,
      "metadata": {
        "colab": {
          "base_uri": "https://localhost:8080/",
          "height": 356
        },
        "id": "TNAirQOGXZ2b",
        "outputId": "d03c98be-823b-4a5f-f36b-165514efb267"
      },
      "outputs": [
        {
          "data": {
            "text/plain": [
              "<AxesSubplot:>"
            ]
          },
          "execution_count": 14,
          "metadata": {},
          "output_type": "execute_result"
        },
        {
          "data": {
            "image/png": "[encoded data removed]",
            "text/plain": [
              "<Figure size 432x288 with 1 Axes>"
            ]
          },
          "metadata": {
            "needs_background": "light"
          },
          "output_type": "display_data"
        }
      ],
      "source": [
        "# Grafica de los valores de los primeros 5 departamentos\n",
        "df.empconsul_prov.value_counts().head().plot(kind='bar')"
      ]
    },
    {
      "cell_type": "code",
      "execution_count": 15,
      "metadata": {
        "colab": {
          "base_uri": "https://localhost:8080/"
        },
        "id": "PHH3-ehoXfD7",
        "outputId": "ab8cce11-bca0-42bb-8c01-67015310ec7a"
      },
      "outputs": [
        {
          "data": {
            "text/plain": [
              "ACTIVA                                              657411\n",
              "CANCELACION                                          81632\n",
              "LIQUIDACION                                          35620\n",
              "LEY DE INSOLVENCIA (REORGANIZACION EMPRESARIAL)       8481\n",
              "EXTINGUIDA                                            6386\n",
              "INACTIVA TEMPORAL                                     3080\n",
              "REESTRUCTURACION O CONCORDATO                          434\n",
              "INTERVENIDA                                            431\n",
              "COINCIDENCIA HOMOGRAFA LISTA CLINTON (SDNT OFAC)        98\n",
              "ABSORBIDA                                               19\n",
              "ANULACIËN LIQUIDACIËN                                   17\n",
              "SALIDA CLINTON (SDNT OFAC)                               7\n",
              "DISUELTA                                                 3\n",
              "Name: empconsul_est, dtype: int64"
            ]
          },
          "execution_count": 15,
          "metadata": {},
          "output_type": "execute_result"
        }
      ],
      "source": [
        "# Valores por cada categoría del estado actual de la empresa\n",
        "df.empconsul_est.value_counts()"
      ]
    },
    {
      "cell_type": "code",
      "execution_count": 16,
      "metadata": {
        "colab": {
          "base_uri": "https://localhost:8080/",
          "height": 559
        },
        "id": "gfsXYqUkXnCU",
        "outputId": "0e2f84bb-fe15-4241-ad09-8da7f6e4ab34"
      },
      "outputs": [
        {
          "data": {
            "text/plain": [
              "<AxesSubplot:>"
            ]
          },
          "execution_count": 16,
          "metadata": {},
          "output_type": "execute_result"
        },
        {
          "data": {
            "image/png": "[encoded data removed]",
            "text/plain": [
              "<Figure size 432x288 with 1 Axes>"
            ]
          },
          "metadata": {
            "needs_background": "light"
          },
          "output_type": "display_data"
        }
      ],
      "source": [
        "# Grafica de los valores por cada categoría del estado actual de la empresa\n",
        "df.empconsul_est.value_counts().plot(kind='bar')"
      ]
    }
  ],
  "metadata": {
    "colab": {
      "collapsed_sections": [],
      "name": "EDA Ecomerce Consumo promocional.ipynb",
      "provenance": []
    },
    "interpreter": {
      "hash": "ad2bdc8ecc057115af97d19610ffacc2b4e99fae6737bb82f5d7fb13d2f2c186"
    },
    "kernelspec": {
      "display_name": "Python 3.9.7 ('base')",
      "language": "python",
      "name": "python3"
    },
    "language_info": {
      "codemirror_mode": {
        "name": "ipython",
        "version": 3
      },
      "file_extension": ".py",
      "mimetype": "text/x-python",
      "name": "python",
      "nbconvert_exporter": "python",
      "pygments_lexer": "ipython3",
      "version": "3.9.7"
    }
  },
  "nbformat": 4,
  "nbformat_minor": 0
}
