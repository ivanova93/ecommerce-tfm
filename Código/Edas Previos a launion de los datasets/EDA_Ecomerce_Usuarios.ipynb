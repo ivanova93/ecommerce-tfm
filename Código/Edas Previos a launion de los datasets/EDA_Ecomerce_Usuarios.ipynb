{
  "cells": [
    {
      "cell_type": "markdown",
      "metadata": {
        "id": "OMZB4yC4bj8L"
      },
      "source": [
        "# EDA Ecomerce Usuarios\n"
      ]
    },
    {
      "cell_type": "code",
      "execution_count": 1,
      "metadata": {
        "id": "Ls0A107wG-OZ"
      },
      "outputs": [],
      "source": [
        "# Importar pandas\n",
        "import pandas as pd"
      ]
    },
    {
      "cell_type": "code",
      "execution_count": 2,
      "metadata": {
        "id": "X8pIIcOSHF1G"
      },
      "outputs": [],
      "source": [
        "# Importar archivo de Linea1-Usuarios\n",
        "df = pd.read_csv('Linea1-Usuarios.txt', sep=';', encoding='latin-1')"
      ]
    },
    {
      "cell_type": "code",
      "execution_count": 3,
      "metadata": {
        "colab": {
          "base_uri": "https://localhost:8080/",
          "height": 357
        },
        "id": "FTOGihSlHKNc",
        "outputId": "1d472b86-cd30-4ee6-9e03-a902ffb03099"
      },
      "outputs": [
        {
          "data": {
            "text/html": [
              "<div>\n",
              "<style scoped>\n",
              "    .dataframe tbody tr th:only-of-type {\n",
              "        vertical-align: middle;\n",
              "    }\n",
              "\n",
              "    .dataframe tbody tr th {\n",
              "        vertical-align: top;\n",
              "    }\n",
              "\n",
              "    .dataframe thead th {\n",
              "        text-align: right;\n",
              "    }\n",
              "</style>\n",
              "<table border=\"1\" class=\"dataframe\">\n",
              "  <thead>\n",
              "    <tr style=\"text-align: right;\">\n",
              "      <th></th>\n",
              "      <th>IDUSUARIO</th>\n",
              "      <th>TIPOUSUARIO</th>\n",
              "      <th>FEC_REGISTRO</th>\n",
              "      <th>CANAL_REGISTRO</th>\n",
              "      <th>IND_CLIENTE</th>\n",
              "      <th>IND_ALTA</th>\n",
              "      <th>TIPOEMAIL</th>\n",
              "      <th>BONDAD_EMAIL</th>\n",
              "      <th>USU_TELF</th>\n",
              "      <th>IPCASOS</th>\n",
              "      <th>IP_Country</th>\n",
              "      <th>IP_Area</th>\n",
              "      <th>USU_TIPO</th>\n",
              "      <th>USU_TAMANIO</th>\n",
              "      <th>USU_CIIU</th>\n",
              "      <th>USU_ESTADO</th>\n",
              "      <th>USU_DEPARTAMENTO</th>\n",
              "      <th>FEC_CLIENTE</th>\n",
              "      <th>FEC_ALTA</th>\n",
              "    </tr>\n",
              "  </thead>\n",
              "  <tbody>\n",
              "    <tr>\n",
              "      <th>0</th>\n",
              "      <td>8107310,00</td>\n",
              "      <td>PF</td>\n",
              "      <td>22/10/2019 0:00:00</td>\n",
              "      <td>3.0</td>\n",
              "      <td>0</td>\n",
              "      <td>0</td>\n",
              "      <td>yahoo.com</td>\n",
              "      <td>0</td>\n",
              "      <td>233XXXXX</td>\n",
              "      <td>1</td>\n",
              "      <td>Colombia</td>\n",
              "      <td>America</td>\n",
              "      <td>NaN</td>\n",
              "      <td>NaN</td>\n",
              "      <td>NaN</td>\n",
              "      <td>NaN</td>\n",
              "      <td>NaN</td>\n",
              "      <td>NaN</td>\n",
              "      <td>NaN</td>\n",
              "    </tr>\n",
              "    <tr>\n",
              "      <th>1</th>\n",
              "      <td>7784565,00</td>\n",
              "      <td>PJ</td>\n",
              "      <td>14/5/2019 0:00:00</td>\n",
              "      <td>3.0</td>\n",
              "      <td>0</td>\n",
              "      <td>0</td>\n",
              "      <td>gmail.com</td>\n",
              "      <td>20</td>\n",
              "      <td>633XXXXX</td>\n",
              "      <td>1</td>\n",
              "      <td>Colombia</td>\n",
              "      <td>America</td>\n",
              "      <td>SOCIEDAD COMERCIAL/INDUSTRIAL</td>\n",
              "      <td>PQ</td>\n",
              "      <td>N7820</td>\n",
              "      <td>ACTIVA</td>\n",
              "      <td>QUINDIO</td>\n",
              "      <td>NaN</td>\n",
              "      <td>NaN</td>\n",
              "    </tr>\n",
              "    <tr>\n",
              "      <th>2</th>\n",
              "      <td>7718778,00</td>\n",
              "      <td>PJ</td>\n",
              "      <td>9/4/2019 0:00:00</td>\n",
              "      <td>7.0</td>\n",
              "      <td>0</td>\n",
              "      <td>0</td>\n",
              "      <td>hotmail.com</td>\n",
              "      <td>20</td>\n",
              "      <td>533XXXXX</td>\n",
              "      <td>1</td>\n",
              "      <td>Colombia</td>\n",
              "      <td>America</td>\n",
              "      <td>SOCIEDAD COMERCIAL/INDUSTRIAL</td>\n",
              "      <td>MC</td>\n",
              "      <td>G4774</td>\n",
              "      <td>ACTIVA</td>\n",
              "      <td>ATLANTICO</td>\n",
              "      <td>NaN</td>\n",
              "      <td>NaN</td>\n",
              "    </tr>\n",
              "    <tr>\n",
              "      <th>3</th>\n",
              "      <td>7952765,00</td>\n",
              "      <td>PX</td>\n",
              "      <td>12/8/2019 0:00:00</td>\n",
              "      <td>3.0</td>\n",
              "      <td>0</td>\n",
              "      <td>0</td>\n",
              "      <td>uqvirtual.edu.co</td>\n",
              "      <td>20</td>\n",
              "      <td>633XXXXX</td>\n",
              "      <td>1</td>\n",
              "      <td>Colombia</td>\n",
              "      <td>America</td>\n",
              "      <td>NaN</td>\n",
              "      <td>NaN</td>\n",
              "      <td>NaN</td>\n",
              "      <td>NaN</td>\n",
              "      <td>NaN</td>\n",
              "      <td>NaN</td>\n",
              "      <td>NaN</td>\n",
              "    </tr>\n",
              "    <tr>\n",
              "      <th>4</th>\n",
              "      <td>7855424,00</td>\n",
              "      <td>PJ</td>\n",
              "      <td>21/6/2019 0:00:00</td>\n",
              "      <td>7.0</td>\n",
              "      <td>0</td>\n",
              "      <td>0</td>\n",
              "      <td>hotmail.com</td>\n",
              "      <td>20</td>\n",
              "      <td>533XXXXX</td>\n",
              "      <td>1</td>\n",
              "      <td>Colombia</td>\n",
              "      <td>America</td>\n",
              "      <td>EMPRESARIO INDIVIDUAL</td>\n",
              "      <td>MC</td>\n",
              "      <td>N8299</td>\n",
              "      <td>CANCELACIÓN</td>\n",
              "      <td>ATLANTICO</td>\n",
              "      <td>NaN</td>\n",
              "      <td>NaN</td>\n",
              "    </tr>\n",
              "  </tbody>\n",
              "</table>\n",
              "</div>"
            ],
            "text/plain": [
              "    IDUSUARIO TIPOUSUARIO        FEC_REGISTRO  CANAL_REGISTRO  IND_CLIENTE  \\\n",
              "0  8107310,00          PF  22/10/2019 0:00:00             3.0            0   \n",
              "1  7784565,00          PJ   14/5/2019 0:00:00             3.0            0   \n",
              "2  7718778,00          PJ    9/4/2019 0:00:00             7.0            0   \n",
              "3  7952765,00          PX   12/8/2019 0:00:00             3.0            0   \n",
              "4  7855424,00          PJ   21/6/2019 0:00:00             7.0            0   \n",
              "\n",
              "   IND_ALTA         TIPOEMAIL  BONDAD_EMAIL  USU_TELF  IPCASOS IP_Country  \\\n",
              "0         0         yahoo.com             0  233XXXXX        1   Colombia   \n",
              "1         0         gmail.com            20  633XXXXX        1   Colombia   \n",
              "2         0       hotmail.com            20  533XXXXX        1   Colombia   \n",
              "3         0  uqvirtual.edu.co            20  633XXXXX        1   Colombia   \n",
              "4         0       hotmail.com            20  533XXXXX        1   Colombia   \n",
              "\n",
              "   IP_Area                       USU_TIPO USU_TAMANIO USU_CIIU   USU_ESTADO  \\\n",
              "0  America                            NaN         NaN      NaN          NaN   \n",
              "1  America  SOCIEDAD COMERCIAL/INDUSTRIAL          PQ    N7820       ACTIVA   \n",
              "2  America  SOCIEDAD COMERCIAL/INDUSTRIAL          MC    G4774       ACTIVA   \n",
              "3  America                            NaN         NaN      NaN          NaN   \n",
              "4  America          EMPRESARIO INDIVIDUAL          MC    N8299  CANCELACIÓN   \n",
              "\n",
              "  USU_DEPARTAMENTO FEC_CLIENTE FEC_ALTA  \n",
              "0              NaN         NaN      NaN  \n",
              "1          QUINDIO         NaN      NaN  \n",
              "2        ATLANTICO         NaN      NaN  \n",
              "3              NaN         NaN      NaN  \n",
              "4        ATLANTICO         NaN      NaN  "
            ]
          },
          "execution_count": 3,
          "metadata": {},
          "output_type": "execute_result"
        }
      ],
      "source": [
        "# Mostrar primeros 5 registros del dataframe\n",
        "df.head()"
      ]
    },
    {
      "cell_type": "code",
      "execution_count": 4,
      "metadata": {
        "id": "0mLgEeIjHLZS"
      },
      "outputs": [],
      "source": [
        "# Reemplazar nombre de las columnas\n",
        "df.columns = ['id_usuario', 'tipo_usuario', 'fecha_registro', 'canal_registro', 'ind_cliente', 'ind_alta', 'tipo_email', 'bondad_email', 'tel', 'ip_casos', 'ip_country', 'ip_area', 'usu_tipo', 'usuario_tamanio', 'usuario_ciiu', 'usuario_estado', 'usuario_departamento', 'fecha_cliente', 'fecha_alta']"
      ]
    },
    {
      "cell_type": "code",
      "execution_count": 5,
      "metadata": {
        "colab": {
          "base_uri": "https://localhost:8080/",
          "height": 357
        },
        "id": "4Q0j0z0gIOFX",
        "outputId": "b56e9f57-acda-47d8-ea04-ffde45fdaf5b"
      },
      "outputs": [
        {
          "data": {
            "text/html": [
              "<div>\n",
              "<style scoped>\n",
              "    .dataframe tbody tr th:only-of-type {\n",
              "        vertical-align: middle;\n",
              "    }\n",
              "\n",
              "    .dataframe tbody tr th {\n",
              "        vertical-align: top;\n",
              "    }\n",
              "\n",
              "    .dataframe thead th {\n",
              "        text-align: right;\n",
              "    }\n",
              "</style>\n",
              "<table border=\"1\" class=\"dataframe\">\n",
              "  <thead>\n",
              "    <tr style=\"text-align: right;\">\n",
              "      <th></th>\n",
              "      <th>id_usuario</th>\n",
              "      <th>tipo_usuario</th>\n",
              "      <th>fecha_registro</th>\n",
              "      <th>canal_registro</th>\n",
              "      <th>ind_cliente</th>\n",
              "      <th>ind_alta</th>\n",
              "      <th>tipo_email</th>\n",
              "      <th>bondad_email</th>\n",
              "      <th>tel</th>\n",
              "      <th>ip_casos</th>\n",
              "      <th>ip_country</th>\n",
              "      <th>ip_area</th>\n",
              "      <th>usu_tipo</th>\n",
              "      <th>usuario_tamanio</th>\n",
              "      <th>usuario_ciiu</th>\n",
              "      <th>usuario_estado</th>\n",
              "      <th>usuario_departamento</th>\n",
              "      <th>fecha_cliente</th>\n",
              "      <th>fecha_alta</th>\n",
              "    </tr>\n",
              "  </thead>\n",
              "  <tbody>\n",
              "    <tr>\n",
              "      <th>0</th>\n",
              "      <td>8107310,00</td>\n",
              "      <td>PF</td>\n",
              "      <td>22/10/2019 0:00:00</td>\n",
              "      <td>3.0</td>\n",
              "      <td>0</td>\n",
              "      <td>0</td>\n",
              "      <td>yahoo.com</td>\n",
              "      <td>0</td>\n",
              "      <td>233XXXXX</td>\n",
              "      <td>1</td>\n",
              "      <td>Colombia</td>\n",
              "      <td>America</td>\n",
              "      <td>NaN</td>\n",
              "      <td>NaN</td>\n",
              "      <td>NaN</td>\n",
              "      <td>NaN</td>\n",
              "      <td>NaN</td>\n",
              "      <td>NaN</td>\n",
              "      <td>NaN</td>\n",
              "    </tr>\n",
              "    <tr>\n",
              "      <th>1</th>\n",
              "      <td>7784565,00</td>\n",
              "      <td>PJ</td>\n",
              "      <td>14/5/2019 0:00:00</td>\n",
              "      <td>3.0</td>\n",
              "      <td>0</td>\n",
              "      <td>0</td>\n",
              "      <td>gmail.com</td>\n",
              "      <td>20</td>\n",
              "      <td>633XXXXX</td>\n",
              "      <td>1</td>\n",
              "      <td>Colombia</td>\n",
              "      <td>America</td>\n",
              "      <td>SOCIEDAD COMERCIAL/INDUSTRIAL</td>\n",
              "      <td>PQ</td>\n",
              "      <td>N7820</td>\n",
              "      <td>ACTIVA</td>\n",
              "      <td>QUINDIO</td>\n",
              "      <td>NaN</td>\n",
              "      <td>NaN</td>\n",
              "    </tr>\n",
              "    <tr>\n",
              "      <th>2</th>\n",
              "      <td>7718778,00</td>\n",
              "      <td>PJ</td>\n",
              "      <td>9/4/2019 0:00:00</td>\n",
              "      <td>7.0</td>\n",
              "      <td>0</td>\n",
              "      <td>0</td>\n",
              "      <td>hotmail.com</td>\n",
              "      <td>20</td>\n",
              "      <td>533XXXXX</td>\n",
              "      <td>1</td>\n",
              "      <td>Colombia</td>\n",
              "      <td>America</td>\n",
              "      <td>SOCIEDAD COMERCIAL/INDUSTRIAL</td>\n",
              "      <td>MC</td>\n",
              "      <td>G4774</td>\n",
              "      <td>ACTIVA</td>\n",
              "      <td>ATLANTICO</td>\n",
              "      <td>NaN</td>\n",
              "      <td>NaN</td>\n",
              "    </tr>\n",
              "    <tr>\n",
              "      <th>3</th>\n",
              "      <td>7952765,00</td>\n",
              "      <td>PX</td>\n",
              "      <td>12/8/2019 0:00:00</td>\n",
              "      <td>3.0</td>\n",
              "      <td>0</td>\n",
              "      <td>0</td>\n",
              "      <td>uqvirtual.edu.co</td>\n",
              "      <td>20</td>\n",
              "      <td>633XXXXX</td>\n",
              "      <td>1</td>\n",
              "      <td>Colombia</td>\n",
              "      <td>America</td>\n",
              "      <td>NaN</td>\n",
              "      <td>NaN</td>\n",
              "      <td>NaN</td>\n",
              "      <td>NaN</td>\n",
              "      <td>NaN</td>\n",
              "      <td>NaN</td>\n",
              "      <td>NaN</td>\n",
              "    </tr>\n",
              "    <tr>\n",
              "      <th>4</th>\n",
              "      <td>7855424,00</td>\n",
              "      <td>PJ</td>\n",
              "      <td>21/6/2019 0:00:00</td>\n",
              "      <td>7.0</td>\n",
              "      <td>0</td>\n",
              "      <td>0</td>\n",
              "      <td>hotmail.com</td>\n",
              "      <td>20</td>\n",
              "      <td>533XXXXX</td>\n",
              "      <td>1</td>\n",
              "      <td>Colombia</td>\n",
              "      <td>America</td>\n",
              "      <td>EMPRESARIO INDIVIDUAL</td>\n",
              "      <td>MC</td>\n",
              "      <td>N8299</td>\n",
              "      <td>CANCELACIÓN</td>\n",
              "      <td>ATLANTICO</td>\n",
              "      <td>NaN</td>\n",
              "      <td>NaN</td>\n",
              "    </tr>\n",
              "  </tbody>\n",
              "</table>\n",
              "</div>"
            ],
            "text/plain": [
              "   id_usuario tipo_usuario      fecha_registro  canal_registro  ind_cliente  \\\n",
              "0  8107310,00           PF  22/10/2019 0:00:00             3.0            0   \n",
              "1  7784565,00           PJ   14/5/2019 0:00:00             3.0            0   \n",
              "2  7718778,00           PJ    9/4/2019 0:00:00             7.0            0   \n",
              "3  7952765,00           PX   12/8/2019 0:00:00             3.0            0   \n",
              "4  7855424,00           PJ   21/6/2019 0:00:00             7.0            0   \n",
              "\n",
              "   ind_alta        tipo_email  bondad_email       tel  ip_casos ip_country  \\\n",
              "0         0         yahoo.com             0  233XXXXX         1   Colombia   \n",
              "1         0         gmail.com            20  633XXXXX         1   Colombia   \n",
              "2         0       hotmail.com            20  533XXXXX         1   Colombia   \n",
              "3         0  uqvirtual.edu.co            20  633XXXXX         1   Colombia   \n",
              "4         0       hotmail.com            20  533XXXXX         1   Colombia   \n",
              "\n",
              "   ip_area                       usu_tipo usuario_tamanio usuario_ciiu  \\\n",
              "0  America                            NaN             NaN          NaN   \n",
              "1  America  SOCIEDAD COMERCIAL/INDUSTRIAL              PQ        N7820   \n",
              "2  America  SOCIEDAD COMERCIAL/INDUSTRIAL              MC        G4774   \n",
              "3  America                            NaN             NaN          NaN   \n",
              "4  America          EMPRESARIO INDIVIDUAL              MC        N8299   \n",
              "\n",
              "  usuario_estado usuario_departamento fecha_cliente fecha_alta  \n",
              "0            NaN                  NaN           NaN        NaN  \n",
              "1         ACTIVA              QUINDIO           NaN        NaN  \n",
              "2         ACTIVA            ATLANTICO           NaN        NaN  \n",
              "3            NaN                  NaN           NaN        NaN  \n",
              "4    CANCELACIÓN            ATLANTICO           NaN        NaN  "
            ]
          },
          "execution_count": 5,
          "metadata": {},
          "output_type": "execute_result"
        }
      ],
      "source": [
        "# Mostrar primeros 5 registros del dataframe\n",
        "df.head()"
      ]
    },
    {
      "cell_type": "code",
      "execution_count": 6,
      "metadata": {
        "id": "1hhIR5tUIPR5"
      },
      "outputs": [],
      "source": [
        "# Transformar valores de fecha_registro a datetime[64]\n",
        "df['fecha_registro'] = df['fecha_registro'].astype('datetime64')"
      ]
    },
    {
      "cell_type": "code",
      "execution_count": 7,
      "metadata": {
        "colab": {
          "base_uri": "https://localhost:8080/",
          "height": 322
        },
        "id": "EJjfh2RLIbUD",
        "outputId": "4c764c66-faff-4479-e941-5499608d8000"
      },
      "outputs": [
        {
          "data": {
            "text/html": [
              "<div>\n",
              "<style scoped>\n",
              "    .dataframe tbody tr th:only-of-type {\n",
              "        vertical-align: middle;\n",
              "    }\n",
              "\n",
              "    .dataframe tbody tr th {\n",
              "        vertical-align: top;\n",
              "    }\n",
              "\n",
              "    .dataframe thead th {\n",
              "        text-align: right;\n",
              "    }\n",
              "</style>\n",
              "<table border=\"1\" class=\"dataframe\">\n",
              "  <thead>\n",
              "    <tr style=\"text-align: right;\">\n",
              "      <th></th>\n",
              "      <th>id_usuario</th>\n",
              "      <th>tipo_usuario</th>\n",
              "      <th>fecha_registro</th>\n",
              "      <th>canal_registro</th>\n",
              "      <th>ind_cliente</th>\n",
              "      <th>ind_alta</th>\n",
              "      <th>tipo_email</th>\n",
              "      <th>bondad_email</th>\n",
              "      <th>tel</th>\n",
              "      <th>ip_casos</th>\n",
              "      <th>ip_country</th>\n",
              "      <th>ip_area</th>\n",
              "      <th>usu_tipo</th>\n",
              "      <th>usuario_tamanio</th>\n",
              "      <th>usuario_ciiu</th>\n",
              "      <th>usuario_estado</th>\n",
              "      <th>usuario_departamento</th>\n",
              "      <th>fecha_cliente</th>\n",
              "      <th>fecha_alta</th>\n",
              "    </tr>\n",
              "  </thead>\n",
              "  <tbody>\n",
              "    <tr>\n",
              "      <th>0</th>\n",
              "      <td>8107310,00</td>\n",
              "      <td>PF</td>\n",
              "      <td>2019-10-22</td>\n",
              "      <td>3.0</td>\n",
              "      <td>0</td>\n",
              "      <td>0</td>\n",
              "      <td>yahoo.com</td>\n",
              "      <td>0</td>\n",
              "      <td>233XXXXX</td>\n",
              "      <td>1</td>\n",
              "      <td>Colombia</td>\n",
              "      <td>America</td>\n",
              "      <td>NaN</td>\n",
              "      <td>NaN</td>\n",
              "      <td>NaN</td>\n",
              "      <td>NaN</td>\n",
              "      <td>NaN</td>\n",
              "      <td>NaN</td>\n",
              "      <td>NaN</td>\n",
              "    </tr>\n",
              "    <tr>\n",
              "      <th>1</th>\n",
              "      <td>7784565,00</td>\n",
              "      <td>PJ</td>\n",
              "      <td>2019-05-14</td>\n",
              "      <td>3.0</td>\n",
              "      <td>0</td>\n",
              "      <td>0</td>\n",
              "      <td>gmail.com</td>\n",
              "      <td>20</td>\n",
              "      <td>633XXXXX</td>\n",
              "      <td>1</td>\n",
              "      <td>Colombia</td>\n",
              "      <td>America</td>\n",
              "      <td>SOCIEDAD COMERCIAL/INDUSTRIAL</td>\n",
              "      <td>PQ</td>\n",
              "      <td>N7820</td>\n",
              "      <td>ACTIVA</td>\n",
              "      <td>QUINDIO</td>\n",
              "      <td>NaN</td>\n",
              "      <td>NaN</td>\n",
              "    </tr>\n",
              "    <tr>\n",
              "      <th>2</th>\n",
              "      <td>7718778,00</td>\n",
              "      <td>PJ</td>\n",
              "      <td>2019-09-04</td>\n",
              "      <td>7.0</td>\n",
              "      <td>0</td>\n",
              "      <td>0</td>\n",
              "      <td>hotmail.com</td>\n",
              "      <td>20</td>\n",
              "      <td>533XXXXX</td>\n",
              "      <td>1</td>\n",
              "      <td>Colombia</td>\n",
              "      <td>America</td>\n",
              "      <td>SOCIEDAD COMERCIAL/INDUSTRIAL</td>\n",
              "      <td>MC</td>\n",
              "      <td>G4774</td>\n",
              "      <td>ACTIVA</td>\n",
              "      <td>ATLANTICO</td>\n",
              "      <td>NaN</td>\n",
              "      <td>NaN</td>\n",
              "    </tr>\n",
              "    <tr>\n",
              "      <th>3</th>\n",
              "      <td>7952765,00</td>\n",
              "      <td>PX</td>\n",
              "      <td>2019-12-08</td>\n",
              "      <td>3.0</td>\n",
              "      <td>0</td>\n",
              "      <td>0</td>\n",
              "      <td>uqvirtual.edu.co</td>\n",
              "      <td>20</td>\n",
              "      <td>633XXXXX</td>\n",
              "      <td>1</td>\n",
              "      <td>Colombia</td>\n",
              "      <td>America</td>\n",
              "      <td>NaN</td>\n",
              "      <td>NaN</td>\n",
              "      <td>NaN</td>\n",
              "      <td>NaN</td>\n",
              "      <td>NaN</td>\n",
              "      <td>NaN</td>\n",
              "      <td>NaN</td>\n",
              "    </tr>\n",
              "    <tr>\n",
              "      <th>4</th>\n",
              "      <td>7855424,00</td>\n",
              "      <td>PJ</td>\n",
              "      <td>2019-06-21</td>\n",
              "      <td>7.0</td>\n",
              "      <td>0</td>\n",
              "      <td>0</td>\n",
              "      <td>hotmail.com</td>\n",
              "      <td>20</td>\n",
              "      <td>533XXXXX</td>\n",
              "      <td>1</td>\n",
              "      <td>Colombia</td>\n",
              "      <td>America</td>\n",
              "      <td>EMPRESARIO INDIVIDUAL</td>\n",
              "      <td>MC</td>\n",
              "      <td>N8299</td>\n",
              "      <td>CANCELACIÓN</td>\n",
              "      <td>ATLANTICO</td>\n",
              "      <td>NaN</td>\n",
              "      <td>NaN</td>\n",
              "    </tr>\n",
              "  </tbody>\n",
              "</table>\n",
              "</div>"
            ],
            "text/plain": [
              "   id_usuario tipo_usuario fecha_registro  canal_registro  ind_cliente  \\\n",
              "0  8107310,00           PF     2019-10-22             3.0            0   \n",
              "1  7784565,00           PJ     2019-05-14             3.0            0   \n",
              "2  7718778,00           PJ     2019-09-04             7.0            0   \n",
              "3  7952765,00           PX     2019-12-08             3.0            0   \n",
              "4  7855424,00           PJ     2019-06-21             7.0            0   \n",
              "\n",
              "   ind_alta        tipo_email  bondad_email       tel  ip_casos ip_country  \\\n",
              "0         0         yahoo.com             0  233XXXXX         1   Colombia   \n",
              "1         0         gmail.com            20  633XXXXX         1   Colombia   \n",
              "2         0       hotmail.com            20  533XXXXX         1   Colombia   \n",
              "3         0  uqvirtual.edu.co            20  633XXXXX         1   Colombia   \n",
              "4         0       hotmail.com            20  533XXXXX         1   Colombia   \n",
              "\n",
              "   ip_area                       usu_tipo usuario_tamanio usuario_ciiu  \\\n",
              "0  America                            NaN             NaN          NaN   \n",
              "1  America  SOCIEDAD COMERCIAL/INDUSTRIAL              PQ        N7820   \n",
              "2  America  SOCIEDAD COMERCIAL/INDUSTRIAL              MC        G4774   \n",
              "3  America                            NaN             NaN          NaN   \n",
              "4  America          EMPRESARIO INDIVIDUAL              MC        N8299   \n",
              "\n",
              "  usuario_estado usuario_departamento fecha_cliente fecha_alta  \n",
              "0            NaN                  NaN           NaN        NaN  \n",
              "1         ACTIVA              QUINDIO           NaN        NaN  \n",
              "2         ACTIVA            ATLANTICO           NaN        NaN  \n",
              "3            NaN                  NaN           NaN        NaN  \n",
              "4    CANCELACIÓN            ATLANTICO           NaN        NaN  "
            ]
          },
          "execution_count": 7,
          "metadata": {},
          "output_type": "execute_result"
        }
      ],
      "source": [
        "# Mostrar primeros 5 registros del dataframe\n",
        "df.head()"
      ]
    },
    {
      "cell_type": "code",
      "execution_count": 8,
      "metadata": {
        "id": "yS0s_H2WIgU7"
      },
      "outputs": [],
      "source": [
        "# Transformar valores de fecha_alta a datetime[64]\n",
        "df['fecha_alta'] = df['fecha_alta'].astype('datetime64')"
      ]
    },
    {
      "cell_type": "code",
      "execution_count": 9,
      "metadata": {
        "id": "ahAT04UJIt2K"
      },
      "outputs": [],
      "source": [
        "# Transformar valores de fecha_cliente a datetime[64]\n",
        "df['fecha_cliente'] = df['fecha_cliente'].astype('datetime64')"
      ]
    },
    {
      "cell_type": "code",
      "execution_count": 10,
      "metadata": {
        "colab": {
          "base_uri": "https://localhost:8080/"
        },
        "id": "4dATu1V7IyDp",
        "outputId": "1e5d505e-0957-469d-e1bb-28680d1addd9"
      },
      "outputs": [
        {
          "name": "stdout",
          "output_type": "stream",
          "text": [
            "<class 'pandas.core.frame.DataFrame'>\n",
            "RangeIndex: 367705 entries, 0 to 367704\n",
            "Data columns (total 19 columns):\n",
            " #   Column                Non-Null Count   Dtype         \n",
            "---  ------                --------------   -----         \n",
            " 0   id_usuario            367705 non-null  object        \n",
            " 1   tipo_usuario          367705 non-null  object        \n",
            " 2   fecha_registro        367705 non-null  datetime64[ns]\n",
            " 3   canal_registro        360171 non-null  float64       \n",
            " 4   ind_cliente           367705 non-null  int64         \n",
            " 5   ind_alta              367705 non-null  int64         \n",
            " 6   tipo_email            367705 non-null  object        \n",
            " 7   bondad_email          367705 non-null  int64         \n",
            " 8   tel                   367639 non-null  object        \n",
            " 9   ip_casos              367705 non-null  int64         \n",
            " 10  ip_country            345941 non-null  object        \n",
            " 11  ip_area               345941 non-null  object        \n",
            " 12  usu_tipo              84114 non-null   object        \n",
            " 13  usuario_tamanio       84116 non-null   object        \n",
            " 14  usuario_ciiu          84116 non-null   object        \n",
            " 15  usuario_estado        84116 non-null   object        \n",
            " 16  usuario_departamento  90508 non-null   object        \n",
            " 17  fecha_cliente         2613 non-null    datetime64[ns]\n",
            " 18  fecha_alta            3711 non-null    datetime64[ns]\n",
            "dtypes: datetime64[ns](3), float64(1), int64(4), object(11)\n",
            "memory usage: 53.3+ MB\n"
          ]
        }
      ],
      "source": [
        "# Mostrar tipo de columna para el dataframe\n",
        "df.info()"
      ]
    },
    {
      "cell_type": "code",
      "execution_count": 11,
      "metadata": {
        "colab": {
          "base_uri": "https://localhost:8080/"
        },
        "id": "1WOw291HIz5p",
        "outputId": "f0edf597-e866-4d8c-90d9-beac6bc86918"
      },
      "outputs": [
        {
          "data": {
            "text/plain": [
              "id_usuario              367705\n",
              "tipo_usuario                 3\n",
              "fecha_registro             730\n",
              "canal_registro               8\n",
              "ind_cliente                  2\n",
              "ind_alta                     2\n",
              "tipo_email               24651\n",
              "bondad_email                 6\n",
              "tel                      23626\n",
              "ip_casos                   277\n",
              "ip_country                  82\n",
              "ip_area                      5\n",
              "usu_tipo                     9\n",
              "usuario_tamanio              5\n",
              "usuario_ciiu               595\n",
              "usuario_estado              11\n",
              "usuario_departamento        33\n",
              "fecha_cliente              810\n",
              "fecha_alta                 902\n",
              "dtype: int64"
            ]
          },
          "execution_count": 11,
          "metadata": {},
          "output_type": "execute_result"
        }
      ],
      "source": [
        "# Mostrar valores unicos de cada variable\n",
        "df.nunique()"
      ]
    },
    {
      "cell_type": "code",
      "execution_count": 12,
      "metadata": {
        "colab": {
          "base_uri": "https://localhost:8080/"
        },
        "id": "NuwR74v-JRUJ",
        "outputId": "eca807a0-d8c4-4dcb-975f-3bd3c0b40597"
      },
      "outputs": [
        {
          "data": {
            "text/plain": [
              "(367705, 19)"
            ]
          },
          "execution_count": 12,
          "metadata": {},
          "output_type": "execute_result"
        }
      ],
      "source": [
        "# Numero de filas y columnas\n",
        "df.shape"
      ]
    },
    {
      "cell_type": "code",
      "execution_count": 13,
      "metadata": {
        "colab": {
          "base_uri": "https://localhost:8080/"
        },
        "id": "Y2bON5VyJWSK",
        "outputId": "ebfa6346-4473-420f-aef7-e97512f3af36"
      },
      "outputs": [
        {
          "data": {
            "text/plain": [
              "id_usuario                   0\n",
              "tipo_usuario                 0\n",
              "fecha_registro               0\n",
              "canal_registro            7534\n",
              "ind_cliente                  0\n",
              "ind_alta                     0\n",
              "tipo_email                   0\n",
              "bondad_email                 0\n",
              "tel                         66\n",
              "ip_casos                     0\n",
              "ip_country               21764\n",
              "ip_area                  21764\n",
              "usu_tipo                283591\n",
              "usuario_tamanio         283589\n",
              "usuario_ciiu            283589\n",
              "usuario_estado          283589\n",
              "usuario_departamento    277197\n",
              "fecha_cliente           365092\n",
              "fecha_alta              363994\n",
              "dtype: int64"
            ]
          },
          "execution_count": 13,
          "metadata": {},
          "output_type": "execute_result"
        }
      ],
      "source": [
        "# Numero de valores nulos por columna\n",
        "df.isnull().sum()"
      ]
    },
    {
      "cell_type": "code",
      "execution_count": 14,
      "metadata": {
        "colab": {
          "base_uri": "https://localhost:8080/",
          "height": 322
        },
        "id": "0TRuIbZmJaMB",
        "outputId": "aeff4a75-d332-4cc3-f6b4-321511bbf1c2"
      },
      "outputs": [
        {
          "data": {
            "text/html": [
              "<div>\n",
              "<style scoped>\n",
              "    .dataframe tbody tr th:only-of-type {\n",
              "        vertical-align: middle;\n",
              "    }\n",
              "\n",
              "    .dataframe tbody tr th {\n",
              "        vertical-align: top;\n",
              "    }\n",
              "\n",
              "    .dataframe thead th {\n",
              "        text-align: right;\n",
              "    }\n",
              "</style>\n",
              "<table border=\"1\" class=\"dataframe\">\n",
              "  <thead>\n",
              "    <tr style=\"text-align: right;\">\n",
              "      <th></th>\n",
              "      <th>id_usuario</th>\n",
              "      <th>tipo_usuario</th>\n",
              "      <th>fecha_registro</th>\n",
              "      <th>canal_registro</th>\n",
              "      <th>ind_cliente</th>\n",
              "      <th>ind_alta</th>\n",
              "      <th>tipo_email</th>\n",
              "      <th>bondad_email</th>\n",
              "      <th>tel</th>\n",
              "      <th>ip_casos</th>\n",
              "      <th>ip_country</th>\n",
              "      <th>ip_area</th>\n",
              "      <th>usu_tipo</th>\n",
              "      <th>usuario_tamanio</th>\n",
              "      <th>usuario_ciiu</th>\n",
              "      <th>usuario_estado</th>\n",
              "      <th>usuario_departamento</th>\n",
              "      <th>fecha_cliente</th>\n",
              "      <th>fecha_alta</th>\n",
              "    </tr>\n",
              "  </thead>\n",
              "  <tbody>\n",
              "    <tr>\n",
              "      <th>0</th>\n",
              "      <td>8107310,00</td>\n",
              "      <td>PF</td>\n",
              "      <td>2019-10-22</td>\n",
              "      <td>3.0</td>\n",
              "      <td>0</td>\n",
              "      <td>0</td>\n",
              "      <td>yahoo.com</td>\n",
              "      <td>0</td>\n",
              "      <td>233XXXXX</td>\n",
              "      <td>1</td>\n",
              "      <td>Colombia</td>\n",
              "      <td>America</td>\n",
              "      <td>NaN</td>\n",
              "      <td>NaN</td>\n",
              "      <td>NaN</td>\n",
              "      <td>NaN</td>\n",
              "      <td>NaN</td>\n",
              "      <td>NaT</td>\n",
              "      <td>NaT</td>\n",
              "    </tr>\n",
              "    <tr>\n",
              "      <th>1</th>\n",
              "      <td>7784565,00</td>\n",
              "      <td>PJ</td>\n",
              "      <td>2019-05-14</td>\n",
              "      <td>3.0</td>\n",
              "      <td>0</td>\n",
              "      <td>0</td>\n",
              "      <td>gmail.com</td>\n",
              "      <td>20</td>\n",
              "      <td>633XXXXX</td>\n",
              "      <td>1</td>\n",
              "      <td>Colombia</td>\n",
              "      <td>America</td>\n",
              "      <td>SOCIEDAD COMERCIAL/INDUSTRIAL</td>\n",
              "      <td>PQ</td>\n",
              "      <td>N7820</td>\n",
              "      <td>ACTIVA</td>\n",
              "      <td>QUINDIO</td>\n",
              "      <td>NaT</td>\n",
              "      <td>NaT</td>\n",
              "    </tr>\n",
              "    <tr>\n",
              "      <th>2</th>\n",
              "      <td>7718778,00</td>\n",
              "      <td>PJ</td>\n",
              "      <td>2019-09-04</td>\n",
              "      <td>7.0</td>\n",
              "      <td>0</td>\n",
              "      <td>0</td>\n",
              "      <td>hotmail.com</td>\n",
              "      <td>20</td>\n",
              "      <td>533XXXXX</td>\n",
              "      <td>1</td>\n",
              "      <td>Colombia</td>\n",
              "      <td>America</td>\n",
              "      <td>SOCIEDAD COMERCIAL/INDUSTRIAL</td>\n",
              "      <td>MC</td>\n",
              "      <td>G4774</td>\n",
              "      <td>ACTIVA</td>\n",
              "      <td>ATLANTICO</td>\n",
              "      <td>NaT</td>\n",
              "      <td>NaT</td>\n",
              "    </tr>\n",
              "    <tr>\n",
              "      <th>3</th>\n",
              "      <td>7952765,00</td>\n",
              "      <td>PX</td>\n",
              "      <td>2019-12-08</td>\n",
              "      <td>3.0</td>\n",
              "      <td>0</td>\n",
              "      <td>0</td>\n",
              "      <td>uqvirtual.edu.co</td>\n",
              "      <td>20</td>\n",
              "      <td>633XXXXX</td>\n",
              "      <td>1</td>\n",
              "      <td>Colombia</td>\n",
              "      <td>America</td>\n",
              "      <td>NaN</td>\n",
              "      <td>NaN</td>\n",
              "      <td>NaN</td>\n",
              "      <td>NaN</td>\n",
              "      <td>NaN</td>\n",
              "      <td>NaT</td>\n",
              "      <td>NaT</td>\n",
              "    </tr>\n",
              "    <tr>\n",
              "      <th>4</th>\n",
              "      <td>7855424,00</td>\n",
              "      <td>PJ</td>\n",
              "      <td>2019-06-21</td>\n",
              "      <td>7.0</td>\n",
              "      <td>0</td>\n",
              "      <td>0</td>\n",
              "      <td>hotmail.com</td>\n",
              "      <td>20</td>\n",
              "      <td>533XXXXX</td>\n",
              "      <td>1</td>\n",
              "      <td>Colombia</td>\n",
              "      <td>America</td>\n",
              "      <td>EMPRESARIO INDIVIDUAL</td>\n",
              "      <td>MC</td>\n",
              "      <td>N8299</td>\n",
              "      <td>CANCELACIÓN</td>\n",
              "      <td>ATLANTICO</td>\n",
              "      <td>NaT</td>\n",
              "      <td>NaT</td>\n",
              "    </tr>\n",
              "  </tbody>\n",
              "</table>\n",
              "</div>"
            ],
            "text/plain": [
              "   id_usuario tipo_usuario fecha_registro  canal_registro  ind_cliente  \\\n",
              "0  8107310,00           PF     2019-10-22             3.0            0   \n",
              "1  7784565,00           PJ     2019-05-14             3.0            0   \n",
              "2  7718778,00           PJ     2019-09-04             7.0            0   \n",
              "3  7952765,00           PX     2019-12-08             3.0            0   \n",
              "4  7855424,00           PJ     2019-06-21             7.0            0   \n",
              "\n",
              "   ind_alta        tipo_email  bondad_email       tel  ip_casos ip_country  \\\n",
              "0         0         yahoo.com             0  233XXXXX         1   Colombia   \n",
              "1         0         gmail.com            20  633XXXXX         1   Colombia   \n",
              "2         0       hotmail.com            20  533XXXXX         1   Colombia   \n",
              "3         0  uqvirtual.edu.co            20  633XXXXX         1   Colombia   \n",
              "4         0       hotmail.com            20  533XXXXX         1   Colombia   \n",
              "\n",
              "   ip_area                       usu_tipo usuario_tamanio usuario_ciiu  \\\n",
              "0  America                            NaN             NaN          NaN   \n",
              "1  America  SOCIEDAD COMERCIAL/INDUSTRIAL              PQ        N7820   \n",
              "2  America  SOCIEDAD COMERCIAL/INDUSTRIAL              MC        G4774   \n",
              "3  America                            NaN             NaN          NaN   \n",
              "4  America          EMPRESARIO INDIVIDUAL              MC        N8299   \n",
              "\n",
              "  usuario_estado usuario_departamento fecha_cliente fecha_alta  \n",
              "0            NaN                  NaN           NaT        NaT  \n",
              "1         ACTIVA              QUINDIO           NaT        NaT  \n",
              "2         ACTIVA            ATLANTICO           NaT        NaT  \n",
              "3            NaN                  NaN           NaT        NaT  \n",
              "4    CANCELACIÓN            ATLANTICO           NaT        NaT  "
            ]
          },
          "execution_count": 14,
          "metadata": {},
          "output_type": "execute_result"
        }
      ],
      "source": [
        "# Mostrar los primeros 5 registros\n",
        "df.head()"
      ]
    },
    {
      "cell_type": "code",
      "execution_count": 15,
      "metadata": {
        "colab": {
          "base_uri": "https://localhost:8080/"
        },
        "id": "dz_bqT56JcxZ",
        "outputId": "b1da5a59-d40a-4f71-82a1-8bf3ed4ed3b0"
      },
      "outputs": [
        {
          "data": {
            "text/plain": [
              "PF    265760\n",
              "PJ     89824\n",
              "PX     12121\n",
              "Name: tipo_usuario, dtype: int64"
            ]
          },
          "execution_count": 15,
          "metadata": {},
          "output_type": "execute_result"
        }
      ],
      "source": [
        "# Mostrar valores por cada tipo de usuario\n",
        "df['tipo_usuario'].value_counts().sort_values(ascending=False)"
      ]
    },
    {
      "cell_type": "code",
      "execution_count": 16,
      "metadata": {
        "colab": {
          "base_uri": "https://localhost:8080/",
          "height": 286
        },
        "id": "edSF11YuJg1o",
        "outputId": "255ee6c2-4862-4548-91c1-2a2ec5015b92"
      },
      "outputs": [
        {
          "data": {
            "text/plain": [
              "<AxesSubplot:>"
            ]
          },
          "execution_count": 16,
          "metadata": {},
          "output_type": "execute_result"
        },
        {
          "data": {
            "image/png": "[encoded data removed]",
            "text/plain": [
              "<Figure size 432x288 with 1 Axes>"
            ]
          },
          "metadata": {
            "needs_background": "light"
          },
          "output_type": "display_data"
        }
      ],
      "source": [
        "# Graficar valores por cada tipo de usuario\n",
        "df['tipo_usuario'].value_counts().sort_values(ascending=False).plot(kind='bar')"
      ]
    },
    {
      "cell_type": "code",
      "execution_count": 17,
      "metadata": {
        "colab": {
          "base_uri": "https://localhost:8080/",
          "height": 393
        },
        "id": "NjuX5x4JJogg",
        "outputId": "7696125f-b62b-4685-bf12-415310438427"
      },
      "outputs": [
        {
          "data": {
            "text/plain": [
              "<AxesSubplot:xlabel='fecha_registro'>"
            ]
          },
          "execution_count": 17,
          "metadata": {},
          "output_type": "execute_result"
        },
        {
          "data": {
            "image/png": "[encoded data removed]",
            "text/plain": [
              "<Figure size 432x288 with 1 Axes>"
            ]
          },
          "metadata": {
            "needs_background": "light"
          },
          "output_type": "display_data"
        }
      ],
      "source": [
        "# Mostrar cantidad de registros por cada año\n",
        "df.groupby(df['fecha_registro'].dt.year)['id_usuario'].count().sort_values(ascending=False).head().plot(kind='bar')"
      ]
    },
    {
      "cell_type": "code",
      "execution_count": 18,
      "metadata": {
        "colab": {
          "base_uri": "https://localhost:8080/",
          "height": 298
        },
        "id": "TYqPWM7GLQwr",
        "outputId": "3eda4bf1-e65f-423e-8274-6afe9c24bed4"
      },
      "outputs": [
        {
          "data": {
            "text/plain": [
              "<AxesSubplot:xlabel='fecha_registro'>"
            ]
          },
          "execution_count": 18,
          "metadata": {},
          "output_type": "execute_result"
        },
        {
          "data": {
            "image/png": "[encoded data removed]",
            "text/plain": [
              "<Figure size 432x288 with 1 Axes>"
            ]
          },
          "metadata": {
            "needs_background": "light"
          },
          "output_type": "display_data"
        }
      ],
      "source": [
        "# Mostrar cantidad de registros por cada año\n",
        "df.groupby(df['fecha_registro'].dt.year)['id_usuario'].count().sort_values(ascending=False).plot(kind='line')"
      ]
    },
    {
      "cell_type": "code",
      "execution_count": 19,
      "metadata": {
        "colab": {
          "base_uri": "https://localhost:8080/",
          "height": 289
        },
        "id": "yhhVX6bPLl_U",
        "outputId": "aa4515a2-11e4-4458-f0be-c84f7f4f8475"
      },
      "outputs": [
        {
          "data": {
            "text/plain": [
              "<AxesSubplot:>"
            ]
          },
          "execution_count": 19,
          "metadata": {},
          "output_type": "execute_result"
        },
        {
          "data": {
            "image/png": "[encoded data removed]",
            "text/plain": [
              "<Figure size 432x288 with 1 Axes>"
            ]
          },
          "metadata": {
            "needs_background": "light"
          },
          "output_type": "display_data"
        }
      ],
      "source": [
        "# Valores por cada canal de registro\n",
        "df['canal_registro'].value_counts().sort_values(ascending=False).plot(kind='bar')"
      ]
    },
    {
      "cell_type": "code",
      "execution_count": 20,
      "metadata": {},
      "outputs": [
        {
          "data": {
            "text/plain": [
              "<AxesSubplot:>"
            ]
          },
          "execution_count": 20,
          "metadata": {},
          "output_type": "execute_result"
        },
        {
          "data": {
            "image/png": "[encoded data removed]",
            "text/plain": [
              "<Figure size 432x288 with 1 Axes>"
            ]
          },
          "metadata": {
            "needs_background": "light"
          },
          "output_type": "display_data"
        }
      ],
      "source": [
        "# Diferentes categorias por cada tipo de email\n",
        "df['tipo_email'].value_counts().sort_values(ascending=False).head(10).plot(kind='bar')"
      ]
    },
    {
      "cell_type": "code",
      "execution_count": 21,
      "metadata": {
        "colab": {
          "base_uri": "https://localhost:8080/",
          "height": 290
        },
        "id": "yzebGwJSMgCW",
        "outputId": "2293e162-5875-44f5-a9b8-3f6b6a137b7f"
      },
      "outputs": [
        {
          "data": {
            "text/plain": [
              "<AxesSubplot:>"
            ]
          },
          "execution_count": 21,
          "metadata": {},
          "output_type": "execute_result"
        },
        {
          "data": {
            "image/png": "[encoded data removed]",
            "text/plain": [
              "<Figure size 432x288 with 1 Axes>"
            ]
          },
          "metadata": {
            "needs_background": "light"
          },
          "output_type": "display_data"
        }
      ],
      "source": [
        "# Cantidad de valores por cada categoria de bondad_email\n",
        "df['bondad_email'].value_counts().plot(kind='bar')"
      ]
    },
    {
      "cell_type": "code",
      "execution_count": 22,
      "metadata": {
        "colab": {
          "base_uri": "https://localhost:8080/",
          "height": 280
        },
        "id": "EIyOL31nNBk7",
        "outputId": "6f5f6816-32e8-4bb1-9397-ce80812a5aec"
      },
      "outputs": [
        {
          "data": {
            "text/plain": [
              "<AxesSubplot:>"
            ]
          },
          "execution_count": 22,
          "metadata": {},
          "output_type": "execute_result"
        },
        {
          "data": {
            "image/png": "[encoded data removed]",
            "text/plain": [
              "<Figure size 432x288 with 1 Axes>"
            ]
          },
          "metadata": {
            "needs_background": "light"
          },
          "output_type": "display_data"
        }
      ],
      "source": [
        "# Grafica de valores por casos ip\n",
        "df.ip_casos.value_counts().head(10).plot(kind='bar')"
      ]
    },
    {
      "cell_type": "code",
      "execution_count": 23,
      "metadata": {
        "colab": {
          "base_uri": "https://localhost:8080/",
          "height": 341
        },
        "id": "uy1hon4zNLdW",
        "outputId": "c2334d72-d8b5-43b1-8060-4bc6dd9f0ce2"
      },
      "outputs": [
        {
          "data": {
            "text/plain": [
              "<AxesSubplot:>"
            ]
          },
          "execution_count": 23,
          "metadata": {},
          "output_type": "execute_result"
        },
        {
          "data": {
            "image/png": "[encoded data removed]",
            "text/plain": [
              "<Figure size 432x288 with 1 Axes>"
            ]
          },
          "metadata": {
            "needs_background": "light"
          },
          "output_type": "display_data"
        }
      ],
      "source": [
        "# Grafica de valores por cada país\n",
        "df['ip_country'].value_counts().head().plot(kind='bar')"
      ]
    },
    {
      "cell_type": "code",
      "execution_count": 24,
      "metadata": {
        "colab": {
          "base_uri": "https://localhost:8080/",
          "height": 315
        },
        "id": "MihcLXWoNZrd",
        "outputId": "f5b481a2-dddc-4c94-bc28-568e99c3fece"
      },
      "outputs": [
        {
          "data": {
            "text/plain": [
              "<AxesSubplot:>"
            ]
          },
          "execution_count": 24,
          "metadata": {},
          "output_type": "execute_result"
        },
        {
          "data": {
            "image/png": "[encoded data removed]",
            "text/plain": [
              "<Figure size 432x288 with 1 Axes>"
            ]
          },
          "metadata": {
            "needs_background": "light"
          },
          "output_type": "display_data"
        }
      ],
      "source": [
        "# Grafica de valores por cada area de los ip\n",
        "df['ip_area'].value_counts().plot(kind='bar')"
      ]
    },
    {
      "cell_type": "code",
      "execution_count": 25,
      "metadata": {
        "colab": {
          "base_uri": "https://localhost:8080/",
          "height": 461
        },
        "id": "0fNNVuqANvPm",
        "outputId": "15abd7a6-cb12-4c8d-d0b8-64c1898444de"
      },
      "outputs": [
        {
          "data": {
            "text/plain": [
              "<AxesSubplot:>"
            ]
          },
          "execution_count": 25,
          "metadata": {},
          "output_type": "execute_result"
        },
        {
          "data": {
            "image/png": "[encoded data removed]",
            "text/plain": [
              "<Figure size 432x288 with 1 Axes>"
            ]
          },
          "metadata": {
            "needs_background": "light"
          },
          "output_type": "display_data"
        }
      ],
      "source": [
        "# Grafica de valores por cada tipo de empresa\n",
        "df['usu_tipo'].value_counts().plot(kind='bar')"
      ]
    },
    {
      "cell_type": "code",
      "execution_count": 26,
      "metadata": {
        "colab": {
          "base_uri": "https://localhost:8080/",
          "height": 290
        },
        "id": "ugNV1X23N9z9",
        "outputId": "cd0cb2a6-2c86-47ba-81de-8d7c2083c76b"
      },
      "outputs": [
        {
          "data": {
            "text/plain": [
              "<AxesSubplot:>"
            ]
          },
          "execution_count": 26,
          "metadata": {},
          "output_type": "execute_result"
        },
        {
          "data": {
            "image/png": "[encoded data removed]",
            "text/plain": [
              "<Figure size 432x288 with 1 Axes>"
            ]
          },
          "metadata": {
            "needs_background": "light"
          },
          "output_type": "display_data"
        }
      ],
      "source": [
        "# Grafica de valores por cada tamaño de empresa\n",
        "df.usuario_tamanio.value_counts().plot(kind='bar')"
      ]
    },
    {
      "cell_type": "code",
      "execution_count": 27,
      "metadata": {
        "colab": {
          "base_uri": "https://localhost:8080/",
          "height": 560
        },
        "id": "joERw3aGOYnj",
        "outputId": "4b701a71-fb4e-4880-f06d-9097e940838d"
      },
      "outputs": [
        {
          "data": {
            "text/plain": [
              "<AxesSubplot:>"
            ]
          },
          "execution_count": 27,
          "metadata": {},
          "output_type": "execute_result"
        },
        {
          "data": {
            "image/png": "[encoded data removed]",
            "text/plain": [
              "<Figure size 432x288 with 1 Axes>"
            ]
          },
          "metadata": {
            "needs_background": "light"
          },
          "output_type": "display_data"
        }
      ],
      "source": [
        "# Grafica de valores por cada estado de la empresa\n",
        "df['usuario_estado'].value_counts().plot(kind='bar')"
      ]
    },
    {
      "cell_type": "code",
      "execution_count": 28,
      "metadata": {
        "colab": {
          "base_uri": "https://localhost:8080/",
          "height": 371
        },
        "id": "d0esuQeyOwxZ",
        "outputId": "47165e12-ef37-44e3-fd5c-2b4dde04dc24"
      },
      "outputs": [
        {
          "data": {
            "text/plain": [
              "<AxesSubplot:>"
            ]
          },
          "execution_count": 28,
          "metadata": {},
          "output_type": "execute_result"
        },
        {
          "data": {
            "image/png": "[encoded data removed]",
            "text/plain": [
              "<Figure size 432x288 with 1 Axes>"
            ]
          },
          "metadata": {
            "needs_background": "light"
          },
          "output_type": "display_data"
        }
      ],
      "source": [
        "# Grafica de valores por cada deparmento\n",
        "df['usuario_departamento'].value_counts().plot(kind='bar')"
      ]
    },
    {
      "cell_type": "code",
      "execution_count": 29,
      "metadata": {
        "colab": {
          "base_uri": "https://localhost:8080/",
          "height": 308
        },
        "id": "SIX9k4JEO-ak",
        "outputId": "3b9f5006-abf3-4e3d-ebbf-f8b20b6b8b82"
      },
      "outputs": [
        {
          "data": {
            "text/plain": [
              "<AxesSubplot:>"
            ]
          },
          "execution_count": 29,
          "metadata": {},
          "output_type": "execute_result"
        },
        {
          "data": {
            "image/png": "[encoded data removed]",
            "text/plain": [
              "<Figure size 432x288 with 1 Axes>"
            ]
          },
          "metadata": {
            "needs_background": "light"
          },
          "output_type": "display_data"
        }
      ],
      "source": [
        "# Grafica de barras de valores por año de clientes\n",
        "df.fecha_cliente.dt.year.value_counts().plot(kind='bar')"
      ]
    },
    {
      "cell_type": "code",
      "execution_count": 30,
      "metadata": {},
      "outputs": [
        {
          "data": {
            "text/plain": [
              "<AxesSubplot:>"
            ]
          },
          "execution_count": 30,
          "metadata": {},
          "output_type": "execute_result"
        },
        {
          "data": {
            "image/png": "[encoded data removed]",
            "text/plain": [
              "<Figure size 432x288 with 1 Axes>"
            ]
          },
          "metadata": {
            "needs_background": "light"
          },
          "output_type": "display_data"
        }
      ],
      "source": [
        "# Grafica de linea de valores por año de clientes\n",
        "df['fecha_cliente'].dt.year.value_counts().sort_index().plot(kind='line')"
      ]
    },
    {
      "cell_type": "code",
      "execution_count": 31,
      "metadata": {
        "colab": {
          "base_uri": "https://localhost:8080/",
          "height": 308
        },
        "id": "buHN0sgjPBXk",
        "outputId": "0ff4e3b8-9f98-4b1e-87b1-af8883acb549"
      },
      "outputs": [
        {
          "data": {
            "text/plain": [
              "<AxesSubplot:>"
            ]
          },
          "execution_count": 31,
          "metadata": {},
          "output_type": "execute_result"
        },
        {
          "data": {
            "image/png": "[encoded data removed]",
            "text/plain": [
              "<Figure size 432x288 with 1 Axes>"
            ]
          },
          "metadata": {
            "needs_background": "light"
          },
          "output_type": "display_data"
        }
      ],
      "source": [
        "# Grafica de valores por año de registros\n",
        "df['fecha_registro'].dt.year.value_counts().plot(kind='bar')"
      ]
    },
    {
      "cell_type": "code",
      "execution_count": 32,
      "metadata": {
        "colab": {
          "base_uri": "https://localhost:8080/",
          "height": 283
        },
        "id": "6ba8nwwrPguU",
        "outputId": "f3737f77-4c19-4119-e5b8-c8440b1ef230"
      },
      "outputs": [
        {
          "data": {
            "text/plain": [
              "<AxesSubplot:>"
            ]
          },
          "execution_count": 32,
          "metadata": {},
          "output_type": "execute_result"
        },
        {
          "data": {
            "image/png": "[encoded data removed]",
            "text/plain": [
              "<Figure size 432x288 with 1 Axes>"
            ]
          },
          "metadata": {
            "needs_background": "light"
          },
          "output_type": "display_data"
        }
      ],
      "source": [
        "# Grafica de linea de valores por año de registros\n",
        "df['fecha_registro'].dt.year.value_counts().sort_index().plot(kind='line')"
      ]
    }
  ],
  "metadata": {
    "colab": {
      "collapsed_sections": [],
      "name": "EDA Ecomerce Usuarios.ipynb",
      "provenance": []
    },
    "interpreter": {
      "hash": "ad2bdc8ecc057115af97d19610ffacc2b4e99fae6737bb82f5d7fb13d2f2c186"
    },
    "kernelspec": {
      "display_name": "Python 3.9.7 ('base')",
      "language": "python",
      "name": "python3"
    },
    "language_info": {
      "codemirror_mode": {
        "name": "ipython",
        "version": 3
      },
      "file_extension": ".py",
      "mimetype": "text/x-python",
      "name": "python",
      "nbconvert_exporter": "python",
      "pygments_lexer": "ipython3",
      "version": "3.9.7"
    }
  },
  "nbformat": 4,
  "nbformat_minor": 0
}
