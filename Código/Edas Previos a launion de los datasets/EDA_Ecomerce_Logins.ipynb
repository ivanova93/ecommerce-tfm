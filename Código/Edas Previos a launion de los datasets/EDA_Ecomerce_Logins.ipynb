{
  "cells": [
    {
      "cell_type": "markdown",
      "metadata": {
        "id": "pMRB1VzUk0I7"
      },
      "source": [
        "# EDA Ecomerce Login's"
      ]
    },
    {
      "cell_type": "code",
      "execution_count": 1,
      "metadata": {
        "id": "Rrh1q1jcgJ74"
      },
      "outputs": [],
      "source": [
        "# Importar pandas\n",
        "import pandas as pd"
      ]
    },
    {
      "cell_type": "code",
      "execution_count": 2,
      "metadata": {
        "colab": {
          "base_uri": "https://localhost:8080/",
          "height": 206
        },
        "id": "4IyUsdW1gafd",
        "outputId": "47971bca-a80f-4e52-f47f-9e8db3b21de4"
      },
      "outputs": [
        {
          "data": {
            "text/html": [
              "<div>\n",
              "<style scoped>\n",
              "    .dataframe tbody tr th:only-of-type {\n",
              "        vertical-align: middle;\n",
              "    }\n",
              "\n",
              "    .dataframe tbody tr th {\n",
              "        vertical-align: top;\n",
              "    }\n",
              "\n",
              "    .dataframe thead th {\n",
              "        text-align: right;\n",
              "    }\n",
              "</style>\n",
              "<table border=\"1\" class=\"dataframe\">\n",
              "  <thead>\n",
              "    <tr style=\"text-align: right;\">\n",
              "      <th></th>\n",
              "      <th>IDUSUARIO</th>\n",
              "      <th>FECHALOGIN</th>\n",
              "    </tr>\n",
              "  </thead>\n",
              "  <tbody>\n",
              "    <tr>\n",
              "      <th>0</th>\n",
              "      <td>7339406,00</td>\n",
              "      <td>31/8/2018 0:00:00</td>\n",
              "    </tr>\n",
              "    <tr>\n",
              "      <th>1</th>\n",
              "      <td>7339406,00</td>\n",
              "      <td>4/9/2018 0:00:00</td>\n",
              "    </tr>\n",
              "    <tr>\n",
              "      <th>2</th>\n",
              "      <td>7339406,00</td>\n",
              "      <td>4/9/2018 0:00:00</td>\n",
              "    </tr>\n",
              "    <tr>\n",
              "      <th>3</th>\n",
              "      <td>7966293,00</td>\n",
              "      <td>10/10/2019 0:00:00</td>\n",
              "    </tr>\n",
              "    <tr>\n",
              "      <th>4</th>\n",
              "      <td>7694472,00</td>\n",
              "      <td>28/3/2019 0:00:00</td>\n",
              "    </tr>\n",
              "  </tbody>\n",
              "</table>\n",
              "</div>"
            ],
            "text/plain": [
              "    IDUSUARIO          FECHALOGIN\n",
              "0  7339406,00   31/8/2018 0:00:00\n",
              "1  7339406,00    4/9/2018 0:00:00\n",
              "2  7339406,00    4/9/2018 0:00:00\n",
              "3  7966293,00  10/10/2019 0:00:00\n",
              "4  7694472,00   28/3/2019 0:00:00"
            ]
          },
          "execution_count": 2,
          "metadata": {},
          "output_type": "execute_result"
        }
      ],
      "source": [
        "# Importar archivo de Linea1-Logins\n",
        "df = pd.read_csv('Linea1-Logins.txt', sep=';', encoding='latin-1')\n",
        "# Mostrar primeras 5 filas\n",
        "df.head()"
      ]
    },
    {
      "cell_type": "code",
      "execution_count": 3,
      "metadata": {
        "id": "q5hZ4WIxgeba"
      },
      "outputs": [],
      "source": [
        "# Trasnformar FECHALOGIN a tipo datetime[64]\n",
        "df['FECHALOGIN'] = df['FECHALOGIN'].astype('datetime64')"
      ]
    },
    {
      "cell_type": "code",
      "execution_count": 4,
      "metadata": {},
      "outputs": [
        {
          "data": {
            "text/plain": [
              "IDUSUARIO     197135\n",
              "FECHALOGIN      1264\n",
              "dtype: int64"
            ]
          },
          "execution_count": 4,
          "metadata": {},
          "output_type": "execute_result"
        }
      ],
      "source": [
        "df.nunique()"
      ]
    },
    {
      "cell_type": "code",
      "execution_count": 5,
      "metadata": {},
      "outputs": [
        {
          "name": "stderr",
          "output_type": "stream",
          "text": [
            "C:\\Users\\ivano\\AppData\\Local\\Temp/ipykernel_32904/418686986.py:2: FutureWarning: Treating datetime data as categorical rather than numeric in `.describe` is deprecated and will be removed in a future version of pandas. Specify `datetime_is_numeric=True` to silence this warning and adopt the future behavior now.\n",
            "  df.describe()\n"
          ]
        },
        {
          "data": {
            "text/html": [
              "<div>\n",
              "<style scoped>\n",
              "    .dataframe tbody tr th:only-of-type {\n",
              "        vertical-align: middle;\n",
              "    }\n",
              "\n",
              "    .dataframe tbody tr th {\n",
              "        vertical-align: top;\n",
              "    }\n",
              "\n",
              "    .dataframe thead th {\n",
              "        text-align: right;\n",
              "    }\n",
              "</style>\n",
              "<table border=\"1\" class=\"dataframe\">\n",
              "  <thead>\n",
              "    <tr style=\"text-align: right;\">\n",
              "      <th></th>\n",
              "      <th>IDUSUARIO</th>\n",
              "      <th>FECHALOGIN</th>\n",
              "    </tr>\n",
              "  </thead>\n",
              "  <tbody>\n",
              "    <tr>\n",
              "      <th>count</th>\n",
              "      <td>617749</td>\n",
              "      <td>617749</td>\n",
              "    </tr>\n",
              "    <tr>\n",
              "      <th>unique</th>\n",
              "      <td>197135</td>\n",
              "      <td>1264</td>\n",
              "    </tr>\n",
              "    <tr>\n",
              "      <th>top</th>\n",
              "      <td>7542443,00</td>\n",
              "      <td>2019-11-13 00:00:00</td>\n",
              "    </tr>\n",
              "    <tr>\n",
              "      <th>freq</th>\n",
              "      <td>1307</td>\n",
              "      <td>5010</td>\n",
              "    </tr>\n",
              "    <tr>\n",
              "      <th>first</th>\n",
              "      <td>NaN</td>\n",
              "      <td>2017-12-31 00:00:00</td>\n",
              "    </tr>\n",
              "    <tr>\n",
              "      <th>last</th>\n",
              "      <td>NaN</td>\n",
              "      <td>2021-12-06 00:00:00</td>\n",
              "    </tr>\n",
              "  </tbody>\n",
              "</table>\n",
              "</div>"
            ],
            "text/plain": [
              "         IDUSUARIO           FECHALOGIN\n",
              "count       617749               617749\n",
              "unique      197135                 1264\n",
              "top     7542443,00  2019-11-13 00:00:00\n",
              "freq          1307                 5010\n",
              "first          NaN  2017-12-31 00:00:00\n",
              "last           NaN  2021-12-06 00:00:00"
            ]
          },
          "execution_count": 5,
          "metadata": {},
          "output_type": "execute_result"
        }
      ],
      "source": [
        "# Resumen estadistico de las columnas\n",
        "df.describe()"
      ]
    },
    {
      "cell_type": "code",
      "execution_count": 6,
      "metadata": {
        "colab": {
          "base_uri": "https://localhost:8080/"
        },
        "id": "NrhDp7nZg1cs",
        "outputId": "ba79b622-2f7d-4e24-c05f-856a0d942bee"
      },
      "outputs": [
        {
          "name": "stdout",
          "output_type": "stream",
          "text": [
            "<class 'pandas.core.frame.DataFrame'>\n",
            "RangeIndex: 617749 entries, 0 to 617748\n",
            "Data columns (total 2 columns):\n",
            " #   Column      Non-Null Count   Dtype         \n",
            "---  ------      --------------   -----         \n",
            " 0   IDUSUARIO   617749 non-null  object        \n",
            " 1   FECHALOGIN  617749 non-null  datetime64[ns]\n",
            "dtypes: datetime64[ns](1), object(1)\n",
            "memory usage: 9.4+ MB\n"
          ]
        }
      ],
      "source": [
        "# Mostrar tipo de columnas\n",
        "df.info()"
      ]
    },
    {
      "cell_type": "code",
      "execution_count": 7,
      "metadata": {
        "id": "mbCDQvjsg4m7"
      },
      "outputs": [],
      "source": [
        "# Crear columna con solo los años\n",
        "df['year'] = df['FECHALOGIN'].dt.year"
      ]
    },
    {
      "cell_type": "code",
      "execution_count": 8,
      "metadata": {
        "id": "xRvSDn9phaUx"
      },
      "outputs": [],
      "source": [
        "# Crear columna con solo los meses\n",
        "df['month'] = df['FECHALOGIN'].dt.month"
      ]
    },
    {
      "cell_type": "code",
      "execution_count": 9,
      "metadata": {
        "id": "MUo2-oVbhhXR"
      },
      "outputs": [],
      "source": [
        "# Crear columna con solo los dias\n",
        "df['day'] = df['FECHALOGIN'].dt.day"
      ]
    },
    {
      "cell_type": "code",
      "execution_count": 10,
      "metadata": {
        "colab": {
          "base_uri": "https://localhost:8080/",
          "height": 206
        },
        "id": "R1xJ2L2chm_i",
        "outputId": "1ada8802-8bb7-4ae8-e63a-9cffc6b56427"
      },
      "outputs": [
        {
          "data": {
            "text/html": [
              "<div>\n",
              "<style scoped>\n",
              "    .dataframe tbody tr th:only-of-type {\n",
              "        vertical-align: middle;\n",
              "    }\n",
              "\n",
              "    .dataframe tbody tr th {\n",
              "        vertical-align: top;\n",
              "    }\n",
              "\n",
              "    .dataframe thead th {\n",
              "        text-align: right;\n",
              "    }\n",
              "</style>\n",
              "<table border=\"1\" class=\"dataframe\">\n",
              "  <thead>\n",
              "    <tr style=\"text-align: right;\">\n",
              "      <th></th>\n",
              "      <th>IDUSUARIO</th>\n",
              "      <th>FECHALOGIN</th>\n",
              "      <th>year</th>\n",
              "      <th>month</th>\n",
              "      <th>day</th>\n",
              "    </tr>\n",
              "  </thead>\n",
              "  <tbody>\n",
              "    <tr>\n",
              "      <th>0</th>\n",
              "      <td>7339406,00</td>\n",
              "      <td>2018-08-31</td>\n",
              "      <td>2018</td>\n",
              "      <td>8</td>\n",
              "      <td>31</td>\n",
              "    </tr>\n",
              "    <tr>\n",
              "      <th>1</th>\n",
              "      <td>7339406,00</td>\n",
              "      <td>2018-04-09</td>\n",
              "      <td>2018</td>\n",
              "      <td>4</td>\n",
              "      <td>9</td>\n",
              "    </tr>\n",
              "    <tr>\n",
              "      <th>2</th>\n",
              "      <td>7339406,00</td>\n",
              "      <td>2018-04-09</td>\n",
              "      <td>2018</td>\n",
              "      <td>4</td>\n",
              "      <td>9</td>\n",
              "    </tr>\n",
              "    <tr>\n",
              "      <th>3</th>\n",
              "      <td>7966293,00</td>\n",
              "      <td>2019-10-10</td>\n",
              "      <td>2019</td>\n",
              "      <td>10</td>\n",
              "      <td>10</td>\n",
              "    </tr>\n",
              "    <tr>\n",
              "      <th>4</th>\n",
              "      <td>7694472,00</td>\n",
              "      <td>2019-03-28</td>\n",
              "      <td>2019</td>\n",
              "      <td>3</td>\n",
              "      <td>28</td>\n",
              "    </tr>\n",
              "  </tbody>\n",
              "</table>\n",
              "</div>"
            ],
            "text/plain": [
              "    IDUSUARIO FECHALOGIN  year  month  day\n",
              "0  7339406,00 2018-08-31  2018      8   31\n",
              "1  7339406,00 2018-04-09  2018      4    9\n",
              "2  7339406,00 2018-04-09  2018      4    9\n",
              "3  7966293,00 2019-10-10  2019     10   10\n",
              "4  7694472,00 2019-03-28  2019      3   28"
            ]
          },
          "execution_count": 10,
          "metadata": {},
          "output_type": "execute_result"
        }
      ],
      "source": [
        "# Mostrar los primeros 5 registros de la tabla\n",
        "df.head()"
      ]
    },
    {
      "cell_type": "code",
      "execution_count": 11,
      "metadata": {
        "id": "Byz87KzYhoMJ"
      },
      "outputs": [],
      "source": [
        "# Renombrar columnas\n",
        "df = df.rename(columns={'IDUSUARIO':'id_user', 'FECHALOGIN':'login_date'})"
      ]
    },
    {
      "cell_type": "code",
      "execution_count": 12,
      "metadata": {
        "colab": {
          "base_uri": "https://localhost:8080/"
        },
        "id": "VeCDtLTUiRZ3",
        "outputId": "792ecbfd-e77a-49c0-a6d8-db92e0bc784b"
      },
      "outputs": [
        {
          "data": {
            "text/plain": [
              "year\n",
              "2019    306090\n",
              "2018    203580\n",
              "2020     92222\n",
              "2021     15849\n",
              "2017         8\n",
              "Name: id_user, dtype: int64"
            ]
          },
          "execution_count": 12,
          "metadata": {},
          "output_type": "execute_result"
        }
      ],
      "source": [
        "# Cantidad de registros por año\n",
        "df.groupby('year')['id_user'].count().sort_values(ascending=False)"
      ]
    },
    {
      "cell_type": "code",
      "execution_count": 13,
      "metadata": {
        "colab": {
          "base_uri": "https://localhost:8080/",
          "height": 313
        },
        "id": "FwPNWJjwjBCL",
        "outputId": "1a3142c3-9226-4183-fa23-ec14c8c10b94"
      },
      "outputs": [
        {
          "data": {
            "text/plain": [
              "<AxesSubplot:xlabel='year'>"
            ]
          },
          "execution_count": 13,
          "metadata": {},
          "output_type": "execute_result"
        },
        {
          "data": {
            "image/png": "[encoded data removed]",
            "text/plain": [
              "<Figure size 432x288 with 1 Axes>"
            ]
          },
          "metadata": {
            "needs_background": "light"
          },
          "output_type": "display_data"
        }
      ],
      "source": [
        "# Grafica de cantidad de registros por año\n",
        "df.groupby('year')['id_user'].count().sort_values(ascending=False).plot(kind='bar')"
      ]
    },
    {
      "cell_type": "code",
      "execution_count": 14,
      "metadata": {
        "colab": {
          "base_uri": "https://localhost:8080/"
        },
        "id": "jw-7uCYcjTWQ",
        "outputId": "2f094179-4278-4e30-f0de-3a59eb443e77"
      },
      "outputs": [
        {
          "data": {
            "text/plain": [
              "month\n",
              "1     50254\n",
              "2     44249\n",
              "3     45284\n",
              "4     51088\n",
              "5     54714\n",
              "6     49351\n",
              "7     55838\n",
              "8     62145\n",
              "9     53796\n",
              "10    59981\n",
              "11    48461\n",
              "12    42588\n",
              "Name: id_user, dtype: int64"
            ]
          },
          "execution_count": 14,
          "metadata": {},
          "output_type": "execute_result"
        }
      ],
      "source": [
        "# Cantidad de registros por mes\n",
        "df.groupby('month')['id_user'].count()"
      ]
    },
    {
      "cell_type": "code",
      "execution_count": 15,
      "metadata": {
        "colab": {
          "base_uri": "https://localhost:8080/",
          "height": 300
        },
        "id": "xqh1xNOXjpW3",
        "outputId": "14d7ee10-6c6b-4d43-a4bd-dc16cd972143"
      },
      "outputs": [
        {
          "data": {
            "text/plain": [
              "<AxesSubplot:xlabel='month'>"
            ]
          },
          "execution_count": 15,
          "metadata": {},
          "output_type": "execute_result"
        },
        {
          "data": {
            "image/png": "[encoded data removed]",
            "text/plain": [
              "<Figure size 432x288 with 1 Axes>"
            ]
          },
          "metadata": {
            "needs_background": "light"
          },
          "output_type": "display_data"
        }
      ],
      "source": [
        "# Grafica de cantidad de registros por mes\n",
        "df.groupby('month')['id_user'].count().sort_values(ascending=False).plot(kind='bar')"
      ]
    },
    {
      "cell_type": "code",
      "execution_count": 16,
      "metadata": {
        "colab": {
          "base_uri": "https://localhost:8080/"
        },
        "id": "pcw3C_7Nj12_",
        "outputId": "cde2b27c-03df-49eb-d075-5c4089197506"
      },
      "outputs": [
        {
          "data": {
            "text/plain": [
              "day\n",
              "1     12889\n",
              "2     20348\n",
              "3     18117\n",
              "4     20735\n",
              "5     22227\n",
              "6     14414\n",
              "7     19667\n",
              "8     21563\n",
              "9     21731\n",
              "10    23539\n",
              "11    17711\n",
              "12    10208\n",
              "13    25688\n",
              "14    22677\n",
              "15    18711\n",
              "16    21303\n",
              "17    17590\n",
              "18    23721\n",
              "19    21656\n",
              "20    23651\n",
              "21    20502\n",
              "22    20982\n",
              "23    22196\n",
              "24    19517\n",
              "25    18282\n",
              "26    21612\n",
              "27    21374\n",
              "28    18564\n",
              "29    24172\n",
              "30    21434\n",
              "31    10968\n",
              "Name: id_user, dtype: int64"
            ]
          },
          "execution_count": 16,
          "metadata": {},
          "output_type": "execute_result"
        }
      ],
      "source": [
        "# Cantidad de registros por día\n",
        "df.groupby('day')['id_user'].count()"
      ]
    },
    {
      "cell_type": "code",
      "execution_count": 17,
      "metadata": {
        "colab": {
          "base_uri": "https://localhost:8080/",
          "height": 300
        },
        "id": "OJJy3V9AkDEH",
        "outputId": "025d045d-e478-4414-d79d-e88e9e6817be"
      },
      "outputs": [
        {
          "data": {
            "text/plain": [
              "<AxesSubplot:xlabel='day'>"
            ]
          },
          "execution_count": 17,
          "metadata": {},
          "output_type": "execute_result"
        },
        {
          "data": {
            "image/png": "[encoded data removed]",
            "text/plain": [
              "<Figure size 432x288 with 1 Axes>"
            ]
          },
          "metadata": {
            "needs_background": "light"
          },
          "output_type": "display_data"
        }
      ],
      "source": [
        "# Grafica de cantidad de registros por día\n",
        "df.groupby('day')['id_user'].count().sort_values(ascending=False).plot(kind='bar')"
      ]
    },
    {
      "cell_type": "markdown",
      "metadata": {
        "id": "s84WzSXykS6d"
      },
      "source": [
        "- Hubo más login's en:\n",
        "  - El año **2019**\n",
        "  - El mes **8** (Agosto)\n",
        "  - El día **13** de mes"
      ]
    }
  ],
  "metadata": {
    "colab": {
      "collapsed_sections": [],
      "name": "EDA Ecomerce Login's.ipynb",
      "provenance": []
    },
    "interpreter": {
      "hash": "ad2bdc8ecc057115af97d19610ffacc2b4e99fae6737bb82f5d7fb13d2f2c186"
    },
    "kernelspec": {
      "display_name": "Python 3.9.7 ('base')",
      "language": "python",
      "name": "python3"
    },
    "language_info": {
      "codemirror_mode": {
        "name": "ipython",
        "version": 3
      },
      "file_extension": ".py",
      "mimetype": "text/x-python",
      "name": "python",
      "nbconvert_exporter": "python",
      "pygments_lexer": "ipython3",
      "version": "3.9.7"
    }
  },
  "nbformat": 4,
  "nbformat_minor": 0
}
