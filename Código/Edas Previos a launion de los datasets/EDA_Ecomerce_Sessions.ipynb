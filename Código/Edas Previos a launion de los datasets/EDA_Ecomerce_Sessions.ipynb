{
  "cells": [
    {
      "cell_type": "markdown",
      "metadata": {
        "id": "97ggxkCGa2O8"
      },
      "source": [
        "# EDA Ecomerce Session's"
      ]
    },
    {
      "cell_type": "code",
      "execution_count": 1,
      "metadata": {
        "id": "S4ovgGEilvl8"
      },
      "outputs": [],
      "source": [
        "# Importar pandas\n",
        "import pandas as pd"
      ]
    },
    {
      "cell_type": "code",
      "execution_count": 2,
      "metadata": {
        "colab": {
          "base_uri": "https://localhost:8080/",
          "height": 206
        },
        "id": "C8iv_-LdmVBm",
        "outputId": "dbd5bfbf-ad59-4e7e-def3-af589bf97a56"
      },
      "outputs": [
        {
          "data": {
            "text/html": [
              "<div>\n",
              "<style scoped>\n",
              "    .dataframe tbody tr th:only-of-type {\n",
              "        vertical-align: middle;\n",
              "    }\n",
              "\n",
              "    .dataframe tbody tr th {\n",
              "        vertical-align: top;\n",
              "    }\n",
              "\n",
              "    .dataframe thead th {\n",
              "        text-align: right;\n",
              "    }\n",
              "</style>\n",
              "<table border=\"1\" class=\"dataframe\">\n",
              "  <thead>\n",
              "    <tr style=\"text-align: right;\">\n",
              "      <th></th>\n",
              "      <th>IDUSUARIO</th>\n",
              "      <th>FECHA_SESION</th>\n",
              "      <th>SESIONES</th>\n",
              "    </tr>\n",
              "  </thead>\n",
              "  <tbody>\n",
              "    <tr>\n",
              "      <th>0</th>\n",
              "      <td>6868835,00</td>\n",
              "      <td>1/1/2018 0:00:00</td>\n",
              "      <td>3</td>\n",
              "    </tr>\n",
              "    <tr>\n",
              "      <th>1</th>\n",
              "      <td>6868838,00</td>\n",
              "      <td>1/1/2018 0:00:00</td>\n",
              "      <td>3</td>\n",
              "    </tr>\n",
              "    <tr>\n",
              "      <th>2</th>\n",
              "      <td>6868841,00</td>\n",
              "      <td>1/1/2018 0:00:00</td>\n",
              "      <td>12</td>\n",
              "    </tr>\n",
              "    <tr>\n",
              "      <th>3</th>\n",
              "      <td>6868844,00</td>\n",
              "      <td>1/1/2018 0:00:00</td>\n",
              "      <td>4</td>\n",
              "    </tr>\n",
              "    <tr>\n",
              "      <th>4</th>\n",
              "      <td>6868847,00</td>\n",
              "      <td>1/1/2018 0:00:00</td>\n",
              "      <td>3</td>\n",
              "    </tr>\n",
              "  </tbody>\n",
              "</table>\n",
              "</div>"
            ],
            "text/plain": [
              "    IDUSUARIO      FECHA_SESION  SESIONES\n",
              "0  6868835,00  1/1/2018 0:00:00         3\n",
              "1  6868838,00  1/1/2018 0:00:00         3\n",
              "2  6868841,00  1/1/2018 0:00:00        12\n",
              "3  6868844,00  1/1/2018 0:00:00         4\n",
              "4  6868847,00  1/1/2018 0:00:00         3"
            ]
          },
          "execution_count": 2,
          "metadata": {},
          "output_type": "execute_result"
        }
      ],
      "source": [
        "# Importar archivo Linea1-Sesiones\n",
        "df = pd.read_csv('Linea1-Sesiones.txt', sep=';', encoding='latin-1')\n",
        "# Mostrar primeros 5 registros\n",
        "df.head()"
      ]
    },
    {
      "cell_type": "code",
      "execution_count": 3,
      "metadata": {
        "id": "MabDHOTqmcjs"
      },
      "outputs": [],
      "source": [
        "# Renombrar columnas\n",
        "df = df.rename(columns={'IDUSUARIO':'id_user', 'FECHA_SESION':'session_date', 'SESIONES':'sessions'})"
      ]
    },
    {
      "cell_type": "code",
      "execution_count": 4,
      "metadata": {
        "colab": {
          "base_uri": "https://localhost:8080/"
        },
        "id": "uFkhkcYem5Ir",
        "outputId": "cde6107f-f02c-4a4a-8ffd-b892b26f5897"
      },
      "outputs": [
        {
          "name": "stdout",
          "output_type": "stream",
          "text": [
            "<class 'pandas.core.frame.DataFrame'>\n",
            "RangeIndex: 408028 entries, 0 to 408027\n",
            "Data columns (total 3 columns):\n",
            " #   Column        Non-Null Count   Dtype \n",
            "---  ------        --------------   ----- \n",
            " 0   id_user       408028 non-null  object\n",
            " 1   session_date  408028 non-null  object\n",
            " 2   sessions      408028 non-null  int64 \n",
            "dtypes: int64(1), object(2)\n",
            "memory usage: 9.3+ MB\n"
          ]
        }
      ],
      "source": [
        "# Descripcion del tipo por variable\n",
        "df.info()"
      ]
    },
    {
      "cell_type": "code",
      "execution_count": 5,
      "metadata": {
        "id": "E7OD8Y1jm7Es"
      },
      "outputs": [],
      "source": [
        "# Transformar columnas session_date a tipo datetime[64]\n",
        "df['session_date'] = df['session_date'].astype('datetime64')"
      ]
    },
    {
      "cell_type": "code",
      "execution_count": 6,
      "metadata": {
        "colab": {
          "base_uri": "https://localhost:8080/"
        },
        "id": "StMH1q46_3L4",
        "outputId": "f19194d6-d8f2-4735-8bef-e2b73512952e"
      },
      "outputs": [
        {
          "data": {
            "text/plain": [
              "id_user         367705\n",
              "session_date      1464\n",
              "sessions           237\n",
              "dtype: int64"
            ]
          },
          "execution_count": 6,
          "metadata": {},
          "output_type": "execute_result"
        }
      ],
      "source": [
        "# Valores unicos por cada columna\n",
        "df.nunique()"
      ]
    },
    {
      "cell_type": "code",
      "execution_count": 8,
      "metadata": {
        "colab": {
          "base_uri": "https://localhost:8080/"
        },
        "id": "hP3vuP9p-8Hw",
        "outputId": "947f1c7c-3a4e-46a9-d464-84eb8901863b"
      },
      "outputs": [
        {
          "data": {
            "text/plain": [
              "count    367705.000000\n",
              "mean          5.318851\n",
              "std          17.350753\n",
              "min           2.000000\n",
              "25%           3.000000\n",
              "50%           3.000000\n",
              "75%           5.000000\n",
              "max        6346.000000\n",
              "Name: sessions, dtype: float64"
            ]
          },
          "execution_count": 8,
          "metadata": {},
          "output_type": "execute_result"
        }
      ],
      "source": [
        "# Valores estadisticos del numero de sesiones por usuario\n",
        "df.groupby('id_user')['sessions'].sum().describe()"
      ]
    },
    {
      "cell_type": "code",
      "execution_count": 9,
      "metadata": {
        "colab": {
          "base_uri": "https://localhost:8080/",
          "height": 283
        },
        "id": "zy-wh-p4APeR",
        "outputId": "6187f0aa-a510-4bf3-9b87-fbae1d8de80e"
      },
      "outputs": [
        {
          "data": {
            "text/plain": [
              "<AxesSubplot:>"
            ]
          },
          "execution_count": 9,
          "metadata": {},
          "output_type": "execute_result"
        },
        {
          "data": {
            "image/png": "[encoded data removed]",
            "text/plain": [
              "<Figure size 432x288 with 1 Axes>"
            ]
          },
          "metadata": {
            "needs_background": "light"
          },
          "output_type": "display_data"
        }
      ],
      "source": [
        "# Box plot de la cantidad de sesiones por usuario\n",
        "df.groupby('id_user')['sessions'].sum().plot(kind='box')"
      ]
    },
    {
      "cell_type": "code",
      "execution_count": 22,
      "metadata": {
        "colab": {
          "base_uri": "https://localhost:8080/",
          "height": 317
        },
        "id": "XdHYIxWmAyyd",
        "outputId": "fb72a6c6-e3d3-477a-bed8-95af6d67f1bb"
      },
      "outputs": [
        {
          "data": {
            "text/plain": [
              "(array([ 0,  1,  2,  3,  4,  5,  6,  7,  8,  9, 10, 11, 12, 13, 14, 15, 16,\n",
              "        17, 18, 19, 20, 21, 22, 23, 24, 25, 26, 27, 28, 29, 30, 31, 32, 33,\n",
              "        34, 35, 36, 37, 38, 39, 40, 41, 42, 43, 44, 45, 46, 47, 48, 49, 50,\n",
              "        51, 52, 53, 54, 55, 56, 57, 58, 59, 60, 61, 62, 63, 64, 65, 66, 67,\n",
              "        68, 69, 70, 71, 72, 73, 74, 75, 76, 77, 78, 79, 80, 81, 82, 83, 84,\n",
              "        85, 86, 87, 88, 89, 90, 91, 92, 93, 94, 95, 96, 97, 98, 99]),\n",
              " [Text(0, 0, '2018-04-19 00:00:00'),\n",
              "  Text(1, 0, '2019-07-05 00:00:00'),\n",
              "  Text(2, 0, '2018-04-17 00:00:00'),\n",
              "  Text(3, 0, '2018-04-18 00:00:00'),\n",
              "  Text(4, 0, '2019-10-16 00:00:00'),\n",
              "  Text(5, 0, '2018-04-16 00:00:00'),\n",
              "  Text(6, 0, '2019-06-05 00:00:00'),\n",
              "  Text(7, 0, '2018-03-14 00:00:00'),\n",
              "  Text(8, 0, '2019-10-23 00:00:00'),\n",
              "  Text(9, 0, '2019-08-05 00:00:00'),\n",
              "  Text(10, 0, '2019-10-22 00:00:00'),\n",
              "  Text(11, 0, '2019-10-17 00:00:00'),\n",
              "  Text(12, 0, '2018-05-24 00:00:00'),\n",
              "  Text(13, 0, '2018-05-23 00:00:00'),\n",
              "  Text(14, 0, '2018-04-13 00:00:00'),\n",
              "  Text(15, 0, '2018-03-21 00:00:00'),\n",
              "  Text(16, 0, '2018-12-04 00:00:00'),\n",
              "  Text(17, 0, '2019-11-09 00:00:00'),\n",
              "  Text(18, 0, '2018-05-31 00:00:00'),\n",
              "  Text(19, 0, '2019-10-21 00:00:00'),\n",
              "  Text(20, 0, '2018-05-29 00:00:00'),\n",
              "  Text(21, 0, '2019-05-14 00:00:00'),\n",
              "  Text(22, 0, '2019-10-10 00:00:00'),\n",
              "  Text(23, 0, '2018-03-20 00:00:00'),\n",
              "  Text(24, 0, '2019-10-09 00:00:00'),\n",
              "  Text(25, 0, '2019-10-15 00:00:00'),\n",
              "  Text(26, 0, '2019-08-13 00:00:00'),\n",
              "  Text(27, 0, '2018-05-22 00:00:00'),\n",
              "  Text(28, 0, '2018-09-10 00:00:00'),\n",
              "  Text(29, 0, '2018-05-28 00:00:00'),\n",
              "  Text(30, 0, '2019-07-10 00:00:00'),\n",
              "  Text(31, 0, '2018-07-06 00:00:00'),\n",
              "  Text(32, 0, '2018-02-26 00:00:00'),\n",
              "  Text(33, 0, '2019-12-11 00:00:00'),\n",
              "  Text(34, 0, '2019-08-28 00:00:00'),\n",
              "  Text(35, 0, '2018-03-13 00:00:00'),\n",
              "  Text(36, 0, '2018-09-05 00:00:00'),\n",
              "  Text(37, 0, '2018-06-06 00:00:00'),\n",
              "  Text(38, 0, '2018-02-20 00:00:00'),\n",
              "  Text(39, 0, '2019-09-05 00:00:00'),\n",
              "  Text(40, 0, '2018-05-15 00:00:00'),\n",
              "  Text(41, 0, '2018-07-03 00:00:00'),\n",
              "  Text(42, 0, '2018-05-06 00:00:00'),\n",
              "  Text(43, 0, '2019-10-29 00:00:00'),\n",
              "  Text(44, 0, '2018-04-26 00:00:00'),\n",
              "  Text(45, 0, '2019-05-13 00:00:00'),\n",
              "  Text(46, 0, '2019-11-14 00:00:00'),\n",
              "  Text(47, 0, '2019-11-13 00:00:00'),\n",
              "  Text(48, 0, '2018-04-23 00:00:00'),\n",
              "  Text(49, 0, '2018-08-23 00:00:00'),\n",
              "  Text(50, 0, '2019-08-08 00:00:00'),\n",
              "  Text(51, 0, '2018-08-10 00:00:00'),\n",
              "  Text(52, 0, '2019-12-09 00:00:00'),\n",
              "  Text(53, 0, '2018-05-21 00:00:00'),\n",
              "  Text(54, 0, '2018-10-04 00:00:00'),\n",
              "  Text(55, 0, '2018-12-03 00:00:00'),\n",
              "  Text(56, 0, '2019-04-23 00:00:00'),\n",
              "  Text(57, 0, '2019-08-04 00:00:00'),\n",
              "  Text(58, 0, '2018-09-04 00:00:00'),\n",
              "  Text(59, 0, '2019-09-18 00:00:00'),\n",
              "  Text(60, 0, '2018-02-04 00:00:00'),\n",
              "  Text(61, 0, '2019-05-20 00:00:00'),\n",
              "  Text(62, 0, '2019-05-09 00:00:00'),\n",
              "  Text(63, 0, '2018-07-05 00:00:00'),\n",
              "  Text(64, 0, '2019-08-11 00:00:00'),\n",
              "  Text(65, 0, '2019-09-17 00:00:00'),\n",
              "  Text(66, 0, '2019-03-26 00:00:00'),\n",
              "  Text(67, 0, '2019-08-27 00:00:00'),\n",
              "  Text(68, 0, '2018-04-04 00:00:00'),\n",
              "  Text(69, 0, '2019-11-19 00:00:00'),\n",
              "  Text(70, 0, '2018-06-14 00:00:00'),\n",
              "  Text(71, 0, '2019-08-29 00:00:00'),\n",
              "  Text(72, 0, '2019-11-18 00:00:00'),\n",
              "  Text(73, 0, '2018-05-25 00:00:00'),\n",
              "  Text(74, 0, '2019-10-28 00:00:00'),\n",
              "  Text(75, 0, '2019-05-15 00:00:00'),\n",
              "  Text(76, 0, '2018-03-15 00:00:00'),\n",
              "  Text(77, 0, '2019-07-23 00:00:00'),\n",
              "  Text(78, 0, '2019-08-20 00:00:00'),\n",
              "  Text(79, 0, '2019-05-23 00:00:00'),\n",
              "  Text(80, 0, '2018-05-30 00:00:00'),\n",
              "  Text(81, 0, '2019-11-25 00:00:00'),\n",
              "  Text(82, 0, '2019-08-14 00:00:00'),\n",
              "  Text(83, 0, '2018-06-13 00:00:00'),\n",
              "  Text(84, 0, '2018-02-28 00:00:00'),\n",
              "  Text(85, 0, '2019-09-25 00:00:00'),\n",
              "  Text(86, 0, '2019-09-07 00:00:00'),\n",
              "  Text(87, 0, '2018-04-24 00:00:00'),\n",
              "  Text(88, 0, '2018-02-27 00:00:00'),\n",
              "  Text(89, 0, '2018-02-21 00:00:00'),\n",
              "  Text(90, 0, '2019-09-10 00:00:00'),\n",
              "  Text(91, 0, '2019-08-22 00:00:00'),\n",
              "  Text(92, 0, '2019-06-11 00:00:00'),\n",
              "  Text(93, 0, '2019-03-28 00:00:00'),\n",
              "  Text(94, 0, '2019-05-21 00:00:00'),\n",
              "  Text(95, 0, '2018-05-16 00:00:00'),\n",
              "  Text(96, 0, '2018-11-04 00:00:00'),\n",
              "  Text(97, 0, '2018-03-26 00:00:00'),\n",
              "  Text(98, 0, '2019-05-16 00:00:00'),\n",
              "  Text(99, 0, '2019-02-18 00:00:00')])"
            ]
          },
          "execution_count": 22,
          "metadata": {},
          "output_type": "execute_result"
        },
        {
          "data": {
            "image/png": "[encoded data removed]",
            "text/plain": [
              "<Figure size 432x288 with 1 Axes>"
            ]
          },
          "metadata": {
            "needs_background": "light"
          },
          "output_type": "display_data"
        }
      ],
      "source": [
        "# Graficar cantidad de sesiones por fechas\n",
        "df.groupby('session_date')['sessions'].sum().sort_values(ascending=False).head(100).plot(kind='bar')\n",
        "# Importar librería matplotlib.pyplot\n",
        "import matplotlib.pyplot as plt\n",
        "# Disminuir el tamaño de los labels del eje X\n",
        "plt.xticks(fontsize=0)"
      ]
    },
    {
      "cell_type": "code",
      "execution_count": 13,
      "metadata": {
        "colab": {
          "base_uri": "https://localhost:8080/"
        },
        "id": "snTd7fHzEzMp",
        "outputId": "8782bd6f-9602-46be-ece7-8e9ef8f1dca7"
      },
      "outputs": [
        {
          "data": {
            "text/plain": [
              "session_date\n",
              "2018    932910\n",
              "2019    997177\n",
              "2020     18960\n",
              "2021      6499\n",
              "2022       222\n",
              "Name: sessions, dtype: int64"
            ]
          },
          "execution_count": 13,
          "metadata": {},
          "output_type": "execute_result"
        }
      ],
      "source": [
        "# Cantidad de sesiones por año\n",
        "df.groupby(df.session_date.dt.year)['sessions'].sum()"
      ]
    },
    {
      "cell_type": "code",
      "execution_count": 14,
      "metadata": {
        "colab": {
          "base_uri": "https://localhost:8080/",
          "height": 325
        },
        "id": "O_i8FIi7HtNr",
        "outputId": "56bdaae5-c12e-4664-c5df-783d05f0eeaa"
      },
      "outputs": [
        {
          "data": {
            "text/plain": [
              "<AxesSubplot:xlabel='session_date'>"
            ]
          },
          "execution_count": 14,
          "metadata": {},
          "output_type": "execute_result"
        },
        {
          "data": {
            "image/png": "[encoded data removed]",
            "text/plain": [
              "<Figure size 432x288 with 1 Axes>"
            ]
          },
          "metadata": {
            "needs_background": "light"
          },
          "output_type": "display_data"
        }
      ],
      "source": [
        "# Grafica de cantidad de sesiones por año\n",
        "df.groupby(df.session_date.dt.year)['sessions'].sum().sort_values(ascending=False).plot(kind='bar')"
      ]
    },
    {
      "cell_type": "code",
      "execution_count": 15,
      "metadata": {
        "colab": {
          "base_uri": "https://localhost:8080/",
          "height": 301
        },
        "id": "1Bd9nZKRH4Z4",
        "outputId": "a4f50a2c-30e1-400b-df6c-3cddc256b89f"
      },
      "outputs": [
        {
          "data": {
            "text/plain": [
              "<AxesSubplot:xlabel='session_date'>"
            ]
          },
          "execution_count": 15,
          "metadata": {},
          "output_type": "execute_result"
        },
        {
          "data": {
            "image/png": "[encoded data removed]",
            "text/plain": [
              "<Figure size 432x288 with 1 Axes>"
            ]
          },
          "metadata": {
            "needs_background": "light"
          },
          "output_type": "display_data"
        }
      ],
      "source": [
        "# Grafica de cantidad de sesiones por mes\n",
        "df.groupby(df.session_date.dt.month)['sessions'].sum().sort_values(ascending=False).plot(kind='bar')"
      ]
    },
    {
      "cell_type": "code",
      "execution_count": 16,
      "metadata": {
        "colab": {
          "base_uri": "https://localhost:8080/",
          "height": 301
        },
        "id": "6YHzenqIH7iW",
        "outputId": "f88d2afc-6f75-49b0-e1c0-aa2cd013ed34"
      },
      "outputs": [
        {
          "data": {
            "text/plain": [
              "<AxesSubplot:xlabel='session_date'>"
            ]
          },
          "execution_count": 16,
          "metadata": {},
          "output_type": "execute_result"
        },
        {
          "data": {
            "image/png": "[encoded data removed]",
            "text/plain": [
              "<Figure size 432x288 with 1 Axes>"
            ]
          },
          "metadata": {
            "needs_background": "light"
          },
          "output_type": "display_data"
        }
      ],
      "source": [
        "# Grafica de cantidad de sesiones por día\n",
        "df.groupby(df.session_date.dt.day)['sessions'].sum().sort_values(ascending=False).plot(kind='bar')"
      ]
    },
    {
      "cell_type": "markdown",
      "metadata": {
        "id": "JWs2mb_hIh0Z"
      },
      "source": [
        "- Los usuarios tienen una media de **3** sesiones\n",
        "- Hay algunos usuarios que tienen mas de **5,000** sesiones\n",
        "- El 19 de Abril de 2018 fue el **día con más sesiones** hasta ahora superando más de **6,000**\n",
        "- El año con más sesiones **2019**\n",
        "- El mes con más sesiones **Mayo**\n",
        "- El día con más sesiones **4** del mes"
      ]
    }
  ],
  "metadata": {
    "colab": {
      "collapsed_sections": [],
      "name": "EDA Ecomerce Sessions.ipynb",
      "provenance": []
    },
    "interpreter": {
      "hash": "ad2bdc8ecc057115af97d19610ffacc2b4e99fae6737bb82f5d7fb13d2f2c186"
    },
    "kernelspec": {
      "display_name": "Python 3.9.7 ('base')",
      "language": "python",
      "name": "python3"
    },
    "language_info": {
      "codemirror_mode": {
        "name": "ipython",
        "version": 3
      },
      "file_extension": ".py",
      "mimetype": "text/x-python",
      "name": "python",
      "nbconvert_exporter": "python",
      "pygments_lexer": "ipython3",
      "version": "3.9.7"
    }
  },
  "nbformat": 4,
  "nbformat_minor": 0
}
